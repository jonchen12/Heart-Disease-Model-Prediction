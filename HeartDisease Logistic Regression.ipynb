{
 "cells": [
  {
   "cell_type": "code",
   "execution_count": 315,
   "id": "77f56d93-a5bc-42b7-a538-b2d1efb5d425",
   "metadata": {},
   "outputs": [],
   "source": [
    "import pandas as pd\n",
    "import numpy as np\n",
    "import matplotlib.pyplot as plt\n",
    "import seaborn as sns\n",
    "import sklearn.metrics\n",
    "\n",
    "from sklearn.linear_model import LogisticRegression\n",
    "from sklearn.model_selection import train_test_split\n",
    "from sklearn.metrics import classification_report, confusion_matrix, ConfusionMatrixDisplay\n",
    "from imblearn.over_sampling import SMOTE\n"
   ]
  },
  {
   "cell_type": "code",
   "execution_count": 317,
   "id": "a3855b8e-b698-47f8-8bdc-ba09081d07f9",
   "metadata": {},
   "outputs": [
    {
     "data": {
      "text/html": [
       "<div>\n",
       "<style scoped>\n",
       "    .dataframe tbody tr th:only-of-type {\n",
       "        vertical-align: middle;\n",
       "    }\n",
       "\n",
       "    .dataframe tbody tr th {\n",
       "        vertical-align: top;\n",
       "    }\n",
       "\n",
       "    .dataframe thead th {\n",
       "        text-align: right;\n",
       "    }\n",
       "</style>\n",
       "<table border=\"1\" class=\"dataframe\">\n",
       "  <thead>\n",
       "    <tr style=\"text-align: right;\">\n",
       "      <th></th>\n",
       "      <th>General_Health</th>\n",
       "      <th>Checkup</th>\n",
       "      <th>Exercise</th>\n",
       "      <th>Heart_Disease</th>\n",
       "      <th>Skin_Cancer</th>\n",
       "      <th>Other_Cancer</th>\n",
       "      <th>Depression</th>\n",
       "      <th>Diabetes</th>\n",
       "      <th>Arthritis</th>\n",
       "      <th>Sex</th>\n",
       "      <th>Age_Category</th>\n",
       "      <th>Height_(cm)</th>\n",
       "      <th>Weight_(kg)</th>\n",
       "      <th>BMI</th>\n",
       "      <th>Smoking_History</th>\n",
       "      <th>Alcohol_Consumption</th>\n",
       "      <th>Fruit_Consumption</th>\n",
       "      <th>Green_Vegetables_Consumption</th>\n",
       "      <th>FriedPotato_Consumption</th>\n",
       "    </tr>\n",
       "  </thead>\n",
       "  <tbody>\n",
       "    <tr>\n",
       "      <th>0</th>\n",
       "      <td>Poor</td>\n",
       "      <td>Within the past 2 years</td>\n",
       "      <td>No</td>\n",
       "      <td>No</td>\n",
       "      <td>No</td>\n",
       "      <td>No</td>\n",
       "      <td>No</td>\n",
       "      <td>No</td>\n",
       "      <td>Yes</td>\n",
       "      <td>Female</td>\n",
       "      <td>70-74</td>\n",
       "      <td>150.0</td>\n",
       "      <td>32.66</td>\n",
       "      <td>14.54</td>\n",
       "      <td>Yes</td>\n",
       "      <td>0.0</td>\n",
       "      <td>30.0</td>\n",
       "      <td>16.0</td>\n",
       "      <td>12.0</td>\n",
       "    </tr>\n",
       "    <tr>\n",
       "      <th>1</th>\n",
       "      <td>Very Good</td>\n",
       "      <td>Within the past year</td>\n",
       "      <td>No</td>\n",
       "      <td>Yes</td>\n",
       "      <td>No</td>\n",
       "      <td>No</td>\n",
       "      <td>No</td>\n",
       "      <td>Yes</td>\n",
       "      <td>No</td>\n",
       "      <td>Female</td>\n",
       "      <td>70-74</td>\n",
       "      <td>165.0</td>\n",
       "      <td>77.11</td>\n",
       "      <td>28.29</td>\n",
       "      <td>No</td>\n",
       "      <td>0.0</td>\n",
       "      <td>30.0</td>\n",
       "      <td>0.0</td>\n",
       "      <td>4.0</td>\n",
       "    </tr>\n",
       "    <tr>\n",
       "      <th>2</th>\n",
       "      <td>Very Good</td>\n",
       "      <td>Within the past year</td>\n",
       "      <td>Yes</td>\n",
       "      <td>No</td>\n",
       "      <td>No</td>\n",
       "      <td>No</td>\n",
       "      <td>No</td>\n",
       "      <td>Yes</td>\n",
       "      <td>No</td>\n",
       "      <td>Female</td>\n",
       "      <td>60-64</td>\n",
       "      <td>163.0</td>\n",
       "      <td>88.45</td>\n",
       "      <td>33.47</td>\n",
       "      <td>No</td>\n",
       "      <td>4.0</td>\n",
       "      <td>12.0</td>\n",
       "      <td>3.0</td>\n",
       "      <td>16.0</td>\n",
       "    </tr>\n",
       "    <tr>\n",
       "      <th>3</th>\n",
       "      <td>Poor</td>\n",
       "      <td>Within the past year</td>\n",
       "      <td>Yes</td>\n",
       "      <td>Yes</td>\n",
       "      <td>No</td>\n",
       "      <td>No</td>\n",
       "      <td>No</td>\n",
       "      <td>Yes</td>\n",
       "      <td>No</td>\n",
       "      <td>Male</td>\n",
       "      <td>75-79</td>\n",
       "      <td>180.0</td>\n",
       "      <td>93.44</td>\n",
       "      <td>28.73</td>\n",
       "      <td>No</td>\n",
       "      <td>0.0</td>\n",
       "      <td>30.0</td>\n",
       "      <td>30.0</td>\n",
       "      <td>8.0</td>\n",
       "    </tr>\n",
       "    <tr>\n",
       "      <th>4</th>\n",
       "      <td>Good</td>\n",
       "      <td>Within the past year</td>\n",
       "      <td>No</td>\n",
       "      <td>No</td>\n",
       "      <td>No</td>\n",
       "      <td>No</td>\n",
       "      <td>No</td>\n",
       "      <td>No</td>\n",
       "      <td>No</td>\n",
       "      <td>Male</td>\n",
       "      <td>80+</td>\n",
       "      <td>191.0</td>\n",
       "      <td>88.45</td>\n",
       "      <td>24.37</td>\n",
       "      <td>Yes</td>\n",
       "      <td>0.0</td>\n",
       "      <td>8.0</td>\n",
       "      <td>4.0</td>\n",
       "      <td>0.0</td>\n",
       "    </tr>\n",
       "  </tbody>\n",
       "</table>\n",
       "</div>"
      ],
      "text/plain": [
       "  General_Health                  Checkup Exercise Heart_Disease Skin_Cancer  \\\n",
       "0           Poor  Within the past 2 years       No            No          No   \n",
       "1      Very Good     Within the past year       No           Yes          No   \n",
       "2      Very Good     Within the past year      Yes            No          No   \n",
       "3           Poor     Within the past year      Yes           Yes          No   \n",
       "4           Good     Within the past year       No            No          No   \n",
       "\n",
       "  Other_Cancer Depression Diabetes Arthritis     Sex Age_Category  \\\n",
       "0           No         No       No       Yes  Female        70-74   \n",
       "1           No         No      Yes        No  Female        70-74   \n",
       "2           No         No      Yes        No  Female        60-64   \n",
       "3           No         No      Yes        No    Male        75-79   \n",
       "4           No         No       No        No    Male          80+   \n",
       "\n",
       "   Height_(cm)  Weight_(kg)    BMI Smoking_History  Alcohol_Consumption  \\\n",
       "0        150.0        32.66  14.54             Yes                  0.0   \n",
       "1        165.0        77.11  28.29              No                  0.0   \n",
       "2        163.0        88.45  33.47              No                  4.0   \n",
       "3        180.0        93.44  28.73              No                  0.0   \n",
       "4        191.0        88.45  24.37             Yes                  0.0   \n",
       "\n",
       "   Fruit_Consumption  Green_Vegetables_Consumption  FriedPotato_Consumption  \n",
       "0               30.0                          16.0                     12.0  \n",
       "1               30.0                           0.0                      4.0  \n",
       "2               12.0                           3.0                     16.0  \n",
       "3               30.0                          30.0                      8.0  \n",
       "4                8.0                           4.0                      0.0  "
      ]
     },
     "execution_count": 317,
     "metadata": {},
     "output_type": "execute_result"
    }
   ],
   "source": [
    "#Importing data using pandas read_csv method\n",
    "df = pd.read_csv('CVD_cleaned.csv')\n",
    "df.head()"
   ]
  },
  {
   "cell_type": "code",
   "execution_count": 318,
   "id": "9c2c8813-448d-4541-a947-3d1178e98230",
   "metadata": {},
   "outputs": [
    {
     "name": "stdout",
     "output_type": "stream",
     "text": [
      "['Poor' 'Very Good' 'Good' 'Fair' 'Excellent']\n",
      "\n",
      "['Within the past 2 years' 'Within the past year' '5 or more years ago'\n",
      " 'Within the past 5 years' 'Never']\n",
      "\n",
      "['No' 'Yes']\n",
      "\n",
      "['No' 'Yes']\n",
      "\n",
      "['No' 'Yes']\n",
      "\n",
      "['No' 'Yes']\n",
      "\n",
      "['No' 'Yes']\n",
      "\n",
      "['No' 'Yes' 'No, pre-diabetes or borderline diabetes'\n",
      " 'Yes, but female told only during pregnancy']\n",
      "\n",
      "['Yes' 'No']\n",
      "\n",
      "['70-74' '60-64' '75-79' '80+' '65-69' '50-54' '45-49' '18-24' '30-34'\n",
      " '55-59' '35-39' '40-44' '25-29']\n",
      "\n",
      "['Female' 'Male']\n",
      "\n"
     ]
    }
   ],
   "source": [
    "#Printing unique values for select columns that may not contain binary values ('yes or no')\n",
    "print(df['General_Health'].unique())\n",
    "print('')\n",
    "print(df['Checkup'].unique())\n",
    "print('')\n",
    "print(df['Exercise'].unique())\n",
    "print('')\n",
    "print(df['Heart_Disease'].unique())\n",
    "print('')\n",
    "print(df['Skin_Cancer'].unique())\n",
    "print('')\n",
    "print(df['Other_Cancer'].unique())\n",
    "print('')\n",
    "print(df['Depression'].unique())\n",
    "print('')\n",
    "print(df['Diabetes'].unique())\n",
    "print('')\n",
    "print(df['Arthritis'].unique())\n",
    "print('')\n",
    "print(df['Age_Category'].unique())\n",
    "print('')\n",
    "print(df['Sex'].unique())\n",
    "print('')"
   ]
  },
  {
   "cell_type": "code",
   "execution_count": 319,
   "id": "ec60261f-2a54-4b12-af23-7e6ae6487409",
   "metadata": {},
   "outputs": [
    {
     "data": {
      "text/html": [
       "<div>\n",
       "<style scoped>\n",
       "    .dataframe tbody tr th:only-of-type {\n",
       "        vertical-align: middle;\n",
       "    }\n",
       "\n",
       "    .dataframe tbody tr th {\n",
       "        vertical-align: top;\n",
       "    }\n",
       "\n",
       "    .dataframe thead th {\n",
       "        text-align: right;\n",
       "    }\n",
       "</style>\n",
       "<table border=\"1\" class=\"dataframe\">\n",
       "  <thead>\n",
       "    <tr style=\"text-align: right;\">\n",
       "      <th></th>\n",
       "      <th>Height_(cm)</th>\n",
       "      <th>Weight_(kg)</th>\n",
       "      <th>BMI</th>\n",
       "      <th>Alcohol_Consumption</th>\n",
       "      <th>Fruit_Consumption</th>\n",
       "      <th>Green_Vegetables_Consumption</th>\n",
       "      <th>FriedPotato_Consumption</th>\n",
       "    </tr>\n",
       "  </thead>\n",
       "  <tbody>\n",
       "    <tr>\n",
       "      <th>count</th>\n",
       "      <td>308854.000000</td>\n",
       "      <td>308854.000000</td>\n",
       "      <td>308854.000000</td>\n",
       "      <td>308854.000000</td>\n",
       "      <td>308854.000000</td>\n",
       "      <td>308854.000000</td>\n",
       "      <td>308854.000000</td>\n",
       "    </tr>\n",
       "    <tr>\n",
       "      <th>mean</th>\n",
       "      <td>170.615249</td>\n",
       "      <td>83.588655</td>\n",
       "      <td>28.626211</td>\n",
       "      <td>5.096366</td>\n",
       "      <td>29.835200</td>\n",
       "      <td>15.110441</td>\n",
       "      <td>6.296616</td>\n",
       "    </tr>\n",
       "    <tr>\n",
       "      <th>std</th>\n",
       "      <td>10.658026</td>\n",
       "      <td>21.343210</td>\n",
       "      <td>6.522323</td>\n",
       "      <td>8.199763</td>\n",
       "      <td>24.875735</td>\n",
       "      <td>14.926238</td>\n",
       "      <td>8.582954</td>\n",
       "    </tr>\n",
       "    <tr>\n",
       "      <th>min</th>\n",
       "      <td>91.000000</td>\n",
       "      <td>24.950000</td>\n",
       "      <td>12.020000</td>\n",
       "      <td>0.000000</td>\n",
       "      <td>0.000000</td>\n",
       "      <td>0.000000</td>\n",
       "      <td>0.000000</td>\n",
       "    </tr>\n",
       "    <tr>\n",
       "      <th>25%</th>\n",
       "      <td>163.000000</td>\n",
       "      <td>68.040000</td>\n",
       "      <td>24.210000</td>\n",
       "      <td>0.000000</td>\n",
       "      <td>12.000000</td>\n",
       "      <td>4.000000</td>\n",
       "      <td>2.000000</td>\n",
       "    </tr>\n",
       "    <tr>\n",
       "      <th>50%</th>\n",
       "      <td>170.000000</td>\n",
       "      <td>81.650000</td>\n",
       "      <td>27.440000</td>\n",
       "      <td>1.000000</td>\n",
       "      <td>30.000000</td>\n",
       "      <td>12.000000</td>\n",
       "      <td>4.000000</td>\n",
       "    </tr>\n",
       "    <tr>\n",
       "      <th>75%</th>\n",
       "      <td>178.000000</td>\n",
       "      <td>95.250000</td>\n",
       "      <td>31.850000</td>\n",
       "      <td>6.000000</td>\n",
       "      <td>30.000000</td>\n",
       "      <td>20.000000</td>\n",
       "      <td>8.000000</td>\n",
       "    </tr>\n",
       "    <tr>\n",
       "      <th>max</th>\n",
       "      <td>241.000000</td>\n",
       "      <td>293.020000</td>\n",
       "      <td>99.330000</td>\n",
       "      <td>30.000000</td>\n",
       "      <td>120.000000</td>\n",
       "      <td>128.000000</td>\n",
       "      <td>128.000000</td>\n",
       "    </tr>\n",
       "  </tbody>\n",
       "</table>\n",
       "</div>"
      ],
      "text/plain": [
       "         Height_(cm)    Weight_(kg)            BMI  Alcohol_Consumption  \\\n",
       "count  308854.000000  308854.000000  308854.000000        308854.000000   \n",
       "mean      170.615249      83.588655      28.626211             5.096366   \n",
       "std        10.658026      21.343210       6.522323             8.199763   \n",
       "min        91.000000      24.950000      12.020000             0.000000   \n",
       "25%       163.000000      68.040000      24.210000             0.000000   \n",
       "50%       170.000000      81.650000      27.440000             1.000000   \n",
       "75%       178.000000      95.250000      31.850000             6.000000   \n",
       "max       241.000000     293.020000      99.330000            30.000000   \n",
       "\n",
       "       Fruit_Consumption  Green_Vegetables_Consumption  \\\n",
       "count      308854.000000                 308854.000000   \n",
       "mean           29.835200                     15.110441   \n",
       "std            24.875735                     14.926238   \n",
       "min             0.000000                      0.000000   \n",
       "25%            12.000000                      4.000000   \n",
       "50%            30.000000                     12.000000   \n",
       "75%            30.000000                     20.000000   \n",
       "max           120.000000                    128.000000   \n",
       "\n",
       "       FriedPotato_Consumption  \n",
       "count            308854.000000  \n",
       "mean                  6.296616  \n",
       "std                   8.582954  \n",
       "min                   0.000000  \n",
       "25%                   2.000000  \n",
       "50%                   4.000000  \n",
       "75%                   8.000000  \n",
       "max                 128.000000  "
      ]
     },
     "execution_count": 319,
     "metadata": {},
     "output_type": "execute_result"
    }
   ],
   "source": [
    "df.describe()"
   ]
  },
  {
   "cell_type": "code",
   "execution_count": 320,
   "id": "1f4b13dd-cd18-48ba-9631-98cad6702317",
   "metadata": {},
   "outputs": [
    {
     "name": "stdout",
     "output_type": "stream",
     "text": [
      "Number of people with heart disease: 24971\n",
      "Number of people without heart disease: 283883\n",
      "Ratio of Heart_Disease + / Heart_Disease -: 0.08796229432547915\n"
     ]
    }
   ],
   "source": [
    "a = len(df['Heart_Disease'][df['Heart_Disease']=='Yes'])\n",
    "b = len(df['Heart_Disease'][df['Heart_Disease']=='No'])\n",
    "print('Number of people with heart disease:',a)\n",
    "print('Number of people without heart disease:',b)\n",
    "\n",
    "print('Ratio of Heart_Disease + / Heart_Disease -:',a/b)"
   ]
  },
  {
   "cell_type": "code",
   "execution_count": 321,
   "id": "7875d9b8-312c-4711-8334-f75e080c78ef",
   "metadata": {},
   "outputs": [],
   "source": [
    "#Chaging strings to integers for classification later on. \n",
    "#Also allows for me to correlate numerical values later on down the line as well\n",
    "df = df.replace({'No':0,'Yes':1})\n",
    "\n",
    "df = df.replace({'Within the past 2 years':2, 'Within the past year':1,\n",
    "       '5 or more years ago':4, 'Within the past 5 years':3, 'Never':0})\n",
    "\n",
    "df = df.replace({'Poor':0, 'Very Good':3, 'Good':2, 'Fair':1, 'Excellent':4})\n",
    "\n",
    "df = df.replace({'Male':1,'Female':0})\n",
    "\n",
    "df = df.replace({'70-74':10, '60-64':8, '75-79':11, '80+':12, '65-69':9, '50-54':6, '45-49':5, '18-24':0, '30-34':2,\n",
    " '55-59':7, '35-39':3, '40-44':4, '25-29':1,})\n",
    "\n",
    "df = df.replace({'No':0, 'Yes':3, 'No, pre-diabetes or borderline diabetes':1,\n",
    " 'Yes, but female told only during pregnancy':2})"
   ]
  },
  {
   "cell_type": "code",
   "execution_count": 322,
   "id": "cf8e736f-c295-453a-94ae-aa2ae1995eed",
   "metadata": {},
   "outputs": [
    {
     "data": {
      "text/plain": [
       "General_Health                 -0.232503\n",
       "Checkup                        -0.084887\n",
       "Exercise                       -0.096347\n",
       "Heart_Disease                   1.000000\n",
       "Skin_Cancer                     0.090848\n",
       "Other_Cancer                    0.092387\n",
       "Depression                      0.032526\n",
       "Diabetes                        0.153286\n",
       "Arthritis                       0.153913\n",
       "Sex                             0.072595\n",
       "Age_Category                    0.229011\n",
       "Height_(cm)                     0.015780\n",
       "Weight_(kg)                     0.045875\n",
       "BMI                             0.042666\n",
       "Smoking_History                 0.107797\n",
       "Alcohol_Consumption            -0.036569\n",
       "Fruit_Consumption              -0.020055\n",
       "Green_Vegetables_Consumption   -0.024043\n",
       "FriedPotato_Consumption        -0.009227\n",
       "Name: Heart_Disease, dtype: float64"
      ]
     },
     "execution_count": 322,
     "metadata": {},
     "output_type": "execute_result"
    }
   ],
   "source": [
    "#Pulling the correlation of the columns in relation to heart disease\n",
    "#Columns with the highest correlation are Arthritis and Smoking_History\n",
    "df.corr().Heart_Disease"
   ]
  },
  {
   "cell_type": "markdown",
   "id": "a8d7f5f2-b69d-42c4-b053-045c72292bee",
   "metadata": {},
   "source": [
    "# Original Variables w/o interactions w/o SMOTE"
   ]
  },
  {
   "cell_type": "markdown",
   "id": "ec8bf08f-9dd7-44e8-a3a6-751687a1efa4",
   "metadata": {},
   "source": [
    "**w/o <- means 'without', w/ <- means 'with'**"
   ]
  },
  {
   "cell_type": "code",
   "execution_count": 325,
   "id": "3a809321-8487-466a-aee1-ba6112a78810",
   "metadata": {},
   "outputs": [
    {
     "name": "stdout",
     "output_type": "stream",
     "text": [
      "Logistic Model Score on Training Data: 0.9187454034977358\n",
      "Logistic Model Score on Testing Data: 0.9179986401459145\n"
     ]
    }
   ],
   "source": [
    "### My model\n",
    "#Features\n",
    "X = df[['Age_Category','Exercise','Arthritis' ,'Smoking_History', 'Diabetes']]\n",
    "\n",
    "#Labels\n",
    "y = df['Heart_Disease']\n",
    "\n",
    "#Splitting the data into training and testing; 70% Training, 30% Testing\n",
    "#80-20 yielded worse results\n",
    "x_train, x_test, y_train, y_test = train_test_split(X,y,test_size=.3,train_size=.7,random_state=12)\n",
    "\n",
    "#Creating a Logistic Regression Object\n",
    "log_model_2 = LogisticRegression(max_iter=20000)\n",
    "\n",
    "#Fitting the training data to a logistic model\n",
    "log_model_2.fit(x_train,y_train)\n",
    "\n",
    "#Training the log model on the x_test data\n",
    "y_pred_2 = log_model_2.predict(x_test)\n",
    "\n",
    "#printing the score(error) of the fitted log_model\n",
    "print(\"Logistic Model Score on Training Data:\",log_model_2.score(x_train,y_train))\n",
    "\n",
    "#Printing the score of the fitted log_model on testing data\n",
    "print(\"Logistic Model Score on Testing Data:\",log_model_2.score(x_test,y_test))\n",
    "\n",
    "lmstr_2 = log_model_2.score(x_train,y_train)\n",
    "lmste_2 = log_model_2.score(x_test,y_test)"
   ]
  },
  {
   "cell_type": "code",
   "execution_count": 327,
   "id": "98911cf4-94bb-4bf7-978b-d164decc0486",
   "metadata": {},
   "outputs": [
    {
     "data": {
      "text/plain": [
       "<sklearn.metrics._plot.confusion_matrix.ConfusionMatrixDisplay at 0x140f4a520>"
      ]
     },
     "execution_count": 327,
     "metadata": {},
     "output_type": "execute_result"
    },
    {
     "data": {
      "image/png": "[encoded data removed]",
      "text/plain": [
       "<Figure size 432x288 with 2 Axes>"
      ]
     },
     "metadata": {
      "needs_background": "light"
     },
     "output_type": "display_data"
    }
   ],
   "source": [
    "confusion_matrix = sklearn.metrics.confusion_matrix(y_test,y_pred_2)\n",
    "sklearn.metrics.ConfusionMatrixDisplay(confusion_matrix).plot()"
   ]
  },
  {
   "cell_type": "code",
   "execution_count": 330,
   "id": "ced2686a-b575-4b14-ae1f-9cf70ffe4a88",
   "metadata": {},
   "outputs": [
    {
     "name": "stdout",
     "output_type": "stream",
     "text": [
      "              precision    recall  f1-score   support\n",
      "\n",
      "           0       0.92      1.00      0.96     85107\n",
      "           1       0.40      0.01      0.02      7550\n",
      "\n",
      "    accuracy                           0.92     92657\n",
      "   macro avg       0.66      0.51      0.49     92657\n",
      "weighted avg       0.88      0.92      0.88     92657\n",
      "\n"
     ]
    }
   ],
   "source": [
    "print(classification_report(y_test, y_pred_2))"
   ]
  },
  {
   "cell_type": "code",
   "execution_count": null,
   "id": "9798747c-f5f5-4633-9ec9-0d49e9c32f1d",
   "metadata": {},
   "outputs": [],
   "source": []
  },
  {
   "cell_type": "markdown",
   "id": "cbb26efa-09fb-4483-9624-c9b8d36583ca",
   "metadata": {},
   "source": [
    "# Original Variables w/ interactions BUT w/o SMOTE"
   ]
  },
  {
   "cell_type": "code",
   "execution_count": 333,
   "id": "bdd02815-52e4-4b7f-bd5c-08d97de2199b",
   "metadata": {},
   "outputs": [
    {
     "name": "stdout",
     "output_type": "stream",
     "text": [
      "Logistic Model Score on Training Data: 0.9189535469964893\n",
      "Logistic Model Score on Testing Data: 0.9181929050152714\n"
     ]
    }
   ],
   "source": [
    "from imblearn.over_sampling import SMOTE\n",
    "from sklearn.model_selection import train_test_split\n",
    "from sklearn.linear_model import LogisticRegression\n",
    "import statsmodels.api as sm\n",
    "from sklearn.metrics import classification_report, confusion_matrix\n",
    "\n",
    "#Features\n",
    "X = df[['Age_Category','Exercise','Arthritis' ,'Smoking_History', 'Diabetes']]\n",
    "\n",
    "X = sm.add_constant(X)\n",
    "\n",
    "# Add interaction terms\n",
    "X['Exercise_BMI'] = df['BMI'] * df['Exercise']\n",
    "X['Exercise_Fruit_Consump'] = df['Exercise'] * df['Fruit_Consumption']\n",
    "X['Exercise_ Alcohol_Consump'] = df['Exercise'] * df['Alcohol_Consumption']\n",
    "X['Diabetes_BMI'] = df['Diabetes'] *df['BMI']\n",
    "X['Diabetes_Sex'] = df['Diabetes'] * df['Sex']\n",
    "X['Diabetes_Smoking_Hist'] = df['Diabetes'] * df['Smoking_History']\n",
    "\n",
    "#Labels\n",
    "y = df['Heart_Disease']\n",
    "\n",
    "#Splitting the data into training and testing; 70% Training, 30% Testing\n",
    "#80-20 yielded worse results\n",
    "x_train, x_test, y_train, y_test = train_test_split(X,y,test_size=.3,train_size=.7,random_state=12)\n",
    "\n",
    "#Creating a Logistic Regression Object\n",
    "log_model_2 = LogisticRegression(max_iter=20000)\n",
    "\n",
    "#Fitting the training data to a logistic model\n",
    "log_model_2.fit(x_train,y_train)\n",
    "\n",
    "#Training the log model on the x_test data\n",
    "y_pred_2 = log_model_2.predict(x_test)\n",
    "\n",
    "#printing the score(error) of the fitted log_model\n",
    "print(\"Logistic Model Score on Training Data:\",log_model_2.score(x_train,y_train))\n",
    "\n",
    "#Printing the score of the fitted log_model on testing data\n",
    "print(\"Logistic Model Score on Testing Data:\",log_model_2.score(x_test,y_test))\n",
    "\n",
    "lmstr_2 = log_model_2.score(x_train,y_train)\n",
    "lmste_2 = log_model_2.score(x_test,y_test)"
   ]
  },
  {
   "cell_type": "code",
   "execution_count": 334,
   "id": "1b60dc18-0148-467a-b69b-727e43f090da",
   "metadata": {},
   "outputs": [
    {
     "data": {
      "text/plain": [
       "<sklearn.metrics._plot.confusion_matrix.ConfusionMatrixDisplay at 0x14100a070>"
      ]
     },
     "execution_count": 334,
     "metadata": {},
     "output_type": "execute_result"
    },
    {
     "data": {
      "image/png": "[encoded data removed]",
      "text/plain": [
       "<Figure size 432x288 with 2 Axes>"
      ]
     },
     "metadata": {
      "needs_background": "light"
     },
     "output_type": "display_data"
    }
   ],
   "source": [
    "confusion_matrix = sklearn.metrics.confusion_matrix(y_test,y_pred_2)\n",
    "sklearn.metrics.ConfusionMatrixDisplay(confusion_matrix).plot()"
   ]
  },
  {
   "cell_type": "code",
   "execution_count": 335,
   "id": "37850913-f056-4421-8163-390c2bac632e",
   "metadata": {},
   "outputs": [
    {
     "name": "stdout",
     "output_type": "stream",
     "text": [
      "              precision    recall  f1-score   support\n",
      "\n",
      "           0       0.92      1.00      0.96     85107\n",
      "           1       0.44      0.02      0.03      7550\n",
      "\n",
      "    accuracy                           0.92     92657\n",
      "   macro avg       0.68      0.51      0.49     92657\n",
      "weighted avg       0.88      0.92      0.88     92657\n",
      "\n"
     ]
    }
   ],
   "source": [
    "print(classification_report(y_test, y_pred_2))"
   ]
  },
  {
   "cell_type": "code",
   "execution_count": null,
   "id": "dc21ffc6-ce04-4138-a23b-b31e5f78e9bd",
   "metadata": {},
   "outputs": [],
   "source": []
  },
  {
   "cell_type": "markdown",
   "id": "e2cb8051-0a8c-4c75-ac98-5faf6ede1228",
   "metadata": {},
   "source": [
    "# Original Variables w/ interactions AND w/ SMOTE"
   ]
  },
  {
   "cell_type": "code",
   "execution_count": 338,
   "id": "66818c50-f2de-42d2-8728-a667e097a4c8",
   "metadata": {},
   "outputs": [
    {
     "name": "stdout",
     "output_type": "stream",
     "text": [
      "Logistic Model Score on Training Data (Resampled): 0.7072634523282488\n",
      "Logistic Model Score on Testing Data: 0.6735163020602869\n"
     ]
    }
   ],
   "source": [
    "### My model\n",
    "#Features\n",
    "X = df[['Age_Category','Exercise','Arthritis' ,'Smoking_History', 'Diabetes']]\n",
    "\n",
    "\n",
    "X = sm.add_constant(X)\n",
    "\n",
    "# Add interaction terms\n",
    "X['Exercise_BMI'] = df['BMI'] * df['Exercise']\n",
    "X['Exercise_Fruit_Consump'] = df['Exercise'] * df['Fruit_Consumption']\n",
    "X['Exercise_ Alcohol_Consump'] = df['Exercise'] * df['Alcohol_Consumption']\n",
    "X['Diabetes_BMI'] = df['Diabetes'] *df['BMI']\n",
    "X['Diabetes_Sex'] = df['Diabetes'] * df['Sex']\n",
    "X['Diabetes_Smoking_Hist'] = df['Diabetes'] * df['Smoking_History']\n",
    "\n",
    "#Labels\n",
    "y = df['Heart_Disease']\n",
    "\n",
    "#Splitting the data into training and testing; 70% Training, 30% Testing\n",
    "#80-20 yielded worse results\n",
    "x_train, x_test, y_train, y_test = train_test_split(X,y,test_size=.3,train_size=.7,random_state=12)\n",
    "\n",
    "# Apply SMOTE to balance the training data (synthetic minority oversampling technique)\n",
    "smote = SMOTE(random_state=42)\n",
    "x_train_resampled, y_train_resampled = smote.fit_resample(x_train, y_train)\n",
    "\n",
    "# Create and fit the Logistic Regression model on the resampled data\n",
    "log_model_2 = LogisticRegression(max_iter=20000)\n",
    "log_model_2.fit(x_train_resampled, y_train_resampled)\n",
    "\n",
    "# Predicting on the test set\n",
    "y_pred_2 = log_model_2.predict(x_test)\n",
    "\n",
    "# Printing the model's accuracy on training and testing data\n",
    "print(\"Logistic Model Score on Training Data (Resampled):\", log_model_2.score(x_train_resampled, y_train_resampled))\n",
    "print(\"Logistic Model Score on Testing Data:\", log_model_2.score(x_test, y_test))\n"
   ]
  },
  {
   "cell_type": "code",
   "execution_count": 339,
   "id": "dc658de1-0b2d-4f65-b1bb-50af21aa0f45",
   "metadata": {},
   "outputs": [
    {
     "data": {
      "text/plain": [
       "<sklearn.metrics._plot.confusion_matrix.ConfusionMatrixDisplay at 0x140ee35e0>"
      ]
     },
     "execution_count": 339,
     "metadata": {},
     "output_type": "execute_result"
    },
    {
     "data": {
      "image/png": "[encoded data removed]",
      "text/plain": [
       "<Figure size 432x288 with 2 Axes>"
      ]
     },
     "metadata": {
      "needs_background": "light"
     },
     "output_type": "display_data"
    }
   ],
   "source": [
    "confusion_matrix = sklearn.metrics.confusion_matrix(y_test,y_pred_2)\n",
    "sklearn.metrics.ConfusionMatrixDisplay(confusion_matrix).plot()"
   ]
  },
  {
   "cell_type": "code",
   "execution_count": 340,
   "id": "662aa378-cafc-4538-b486-451da8f7f1ad",
   "metadata": {},
   "outputs": [
    {
     "name": "stdout",
     "output_type": "stream",
     "text": [
      "              precision    recall  f1-score   support\n",
      "\n",
      "           0       0.97      0.66      0.79     85107\n",
      "           1       0.17      0.78      0.28      7550\n",
      "\n",
      "    accuracy                           0.67     92657\n",
      "   macro avg       0.57      0.72      0.53     92657\n",
      "weighted avg       0.91      0.67      0.75     92657\n",
      "\n"
     ]
    }
   ],
   "source": [
    "print(classification_report(y_test, y_pred_2))"
   ]
  },
  {
   "cell_type": "code",
   "execution_count": null,
   "id": "91d139d2-ea20-4367-94c2-3c6b060c6347",
   "metadata": {},
   "outputs": [],
   "source": []
  },
  {
   "cell_type": "code",
   "execution_count": null,
   "id": "9ed19cca-52d1-45c6-8c0d-0899bcb138dc",
   "metadata": {},
   "outputs": [],
   "source": []
  },
  {
   "cell_type": "code",
   "execution_count": null,
   "id": "f83a3b2e-35ae-41c9-8258-707d3e0ebcd9",
   "metadata": {},
   "outputs": [],
   "source": []
  },
  {
   "cell_type": "code",
   "execution_count": null,
   "id": "33f00065-f603-4d5e-8066-1b2b6357e7bf",
   "metadata": {},
   "outputs": [],
   "source": []
  },
  {
   "cell_type": "code",
   "execution_count": null,
   "id": "cf64ac81-ef07-4efc-8fe3-0dfffeff5d19",
   "metadata": {},
   "outputs": [],
   "source": []
  },
  {
   "cell_type": "code",
   "execution_count": null,
   "id": "dc825ca8-63c4-4b06-89ef-cb4623509c76",
   "metadata": {},
   "outputs": [],
   "source": []
  },
  {
   "cell_type": "code",
   "execution_count": null,
   "id": "008441dc-58d2-4d3a-9be5-0864076b2ce4",
   "metadata": {},
   "outputs": [],
   "source": []
  },
  {
   "cell_type": "code",
   "execution_count": null,
   "id": "89c40dee-5a77-4c60-8f4d-59c4b14f83af",
   "metadata": {},
   "outputs": [],
   "source": []
  },
  {
   "cell_type": "code",
   "execution_count": null,
   "id": "bdf70c9d-0f5e-4ceb-82c0-b9fe0ff30f64",
   "metadata": {},
   "outputs": [],
   "source": []
  },
  {
   "cell_type": "code",
   "execution_count": null,
   "id": "53968c70-fcfc-43eb-ad20-4dafb31e36ad",
   "metadata": {},
   "outputs": [],
   "source": []
  },
  {
   "cell_type": "code",
   "execution_count": null,
   "id": "ba18ba3b-b707-4a8b-a7ed-6f75df429a20",
   "metadata": {},
   "outputs": [],
   "source": []
  },
  {
   "cell_type": "code",
   "execution_count": null,
   "id": "906fff94-9302-4cac-a3e7-c03389c205b3",
   "metadata": {},
   "outputs": [],
   "source": []
  },
  {
   "cell_type": "code",
   "execution_count": null,
   "id": "d0e73065-1fc7-446a-9ec3-41e7ed223859",
   "metadata": {},
   "outputs": [],
   "source": []
  },
  {
   "cell_type": "code",
   "execution_count": null,
   "id": "011ee972-f51a-47fb-9486-1d354e3dd075",
   "metadata": {},
   "outputs": [],
   "source": []
  },
  {
   "cell_type": "code",
   "execution_count": null,
   "id": "273e1002-eb53-427c-b805-fc765c406fe0",
   "metadata": {},
   "outputs": [],
   "source": []
  },
  {
   "cell_type": "code",
   "execution_count": null,
   "id": "eff63eb4-2a82-4e8e-8bb1-ec654790757e",
   "metadata": {},
   "outputs": [],
   "source": []
  },
  {
   "cell_type": "code",
   "execution_count": null,
   "id": "86104449-4726-49e6-81e7-f1de0813590b",
   "metadata": {},
   "outputs": [],
   "source": []
  },
  {
   "cell_type": "code",
   "execution_count": null,
   "id": "c07ea8e8-5efb-46fd-a134-467616fbdfa0",
   "metadata": {},
   "outputs": [],
   "source": []
  },
  {
   "cell_type": "code",
   "execution_count": null,
   "id": "3f4d439e-a0e6-4dba-b78e-e0c7e37b768e",
   "metadata": {},
   "outputs": [],
   "source": []
  },
  {
   "cell_type": "code",
   "execution_count": null,
   "id": "1cb2e185-53b7-4b41-a457-3ce390820253",
   "metadata": {},
   "outputs": [],
   "source": []
  },
  {
   "cell_type": "code",
   "execution_count": null,
   "id": "6c81e1e3-f1e3-4cdf-a869-1dacdc012882",
   "metadata": {},
   "outputs": [],
   "source": []
  },
  {
   "cell_type": "markdown",
   "id": "fb4d6f3d-a40f-4874-94f5-c75bcb100cc4",
   "metadata": {},
   "source": [
    "# Everything Below Here You Can IGNORE!!!\n",
    "**JUST EXTRA ANALYSIS I CARRIED OUT!**"
   ]
  },
  {
   "cell_type": "code",
   "execution_count": null,
   "id": "bdda56d3-dd8a-43a0-ad0d-da8db2109982",
   "metadata": {},
   "outputs": [],
   "source": []
  },
  {
   "cell_type": "code",
   "execution_count": 8,
   "id": "db823af9-9fe3-40e1-a74b-239929650b2e",
   "metadata": {},
   "outputs": [
    {
     "name": "stdout",
     "output_type": "stream",
     "text": [
      "Logistic Model Score on Testing Data: 0.9186677746959215\n",
      "Logistic Model Score on Testing Data: 0.9186677746959215\n"
     ]
    }
   ],
   "source": [
    "#Features\n",
    "X = df.drop(['Heart_Disease'],axis=1)\n",
    "\n",
    "#Labels\n",
    "y = df['Heart_Disease']\n",
    "\n",
    "#Splitting the data into training and testing; 70% Training, 30% Testing\n",
    "#80-20 split yields worse results\n",
    "x_train, x_test, y_train, y_test = train_test_split(X,y,test_size=.3,train_size=.7,random_state=12)\n",
    "\n",
    "#Creating a Logistic Regression Object; Setting max_iter=20000 to let algorithm converge\n",
    "log_model = LogisticRegression(max_iter=20000)\n",
    "\n",
    "#Fitting the training data to a logistic model\n",
    "log_model.fit(x_train,y_train)\n",
    "\n",
    "#Training the log model on the x_test data\n",
    "y_pred = log_model.predict(x_test)\n",
    "\n",
    "#Printing the score of the fitted log_model on testing data\n",
    "print(\"Logistic Model Score on Testing Data:\",log_model.score(x_test,y_test))\n",
    "\n",
    "#Printing the score of the fitted log_model on testing data\n",
    "print(\"Logistic Model Score on Testing Data:\",log_model.score(x_test,y_test))\n",
    "\n",
    "#Returning the accuracy of the model on the training and the testing data\n",
    "lmstr = log_model.score(x_train,y_train)\n",
    "lmste = log_model.score(x_test,y_test)"
   ]
  },
  {
   "cell_type": "code",
   "execution_count": null,
   "id": "329021a1-7a87-4dbc-959e-b9b40ffb29d4",
   "metadata": {},
   "outputs": [],
   "source": []
  },
  {
   "cell_type": "code",
   "execution_count": null,
   "id": "d983d307-7f50-4cef-b907-aa6949d4bbb0",
   "metadata": {},
   "outputs": [],
   "source": []
  },
  {
   "cell_type": "code",
   "execution_count": null,
   "id": "50d8228f-3828-4dda-8a12-f78a5b80ca4e",
   "metadata": {},
   "outputs": [],
   "source": []
  },
  {
   "cell_type": "code",
   "execution_count": null,
   "id": "80b64c57-d6fd-42c8-bf8b-032b969d8675",
   "metadata": {},
   "outputs": [],
   "source": []
  },
  {
   "cell_type": "code",
   "execution_count": 9,
   "id": "94a580d5-6200-48c9-8dac-379bf10d1476",
   "metadata": {},
   "outputs": [
    {
     "data": {
      "text/plain": [
       "<sklearn.metrics._plot.confusion_matrix.ConfusionMatrixDisplay at 0x13bd76400>"
      ]
     },
     "execution_count": 9,
     "metadata": {},
     "output_type": "execute_result"
    },
    {
     "data": {
      "image/png": "[encoded data removed]",
      "text/plain": [
       "<Figure size 432x288 with 2 Axes>"
      ]
     },
     "metadata": {
      "needs_background": "light"
     },
     "output_type": "display_data"
    }
   ],
   "source": [
    "#Creating a confusion matrix; \n",
    "#True Neg == Top left, True Pos == Bottom Right\n",
    "#False Neg == Bottom Left, False Pos == Top Right\n",
    "confusion_matrix = sklearn.metrics.confusion_matrix(y_test,y_pred)\n",
    "sklearn.metrics.ConfusionMatrixDisplay(confusion_matrix).plot()"
   ]
  },
  {
   "cell_type": "code",
   "execution_count": 10,
   "id": "c93489a8-4531-4e53-8bd9-df7e9d369091",
   "metadata": {},
   "outputs": [
    {
     "name": "stdout",
     "output_type": "stream",
     "text": [
      "Intercept: [-0.02617261]\n"
     ]
    },
    {
     "data": {
      "text/html": [
       "<div>\n",
       "<style scoped>\n",
       "    .dataframe tbody tr th:only-of-type {\n",
       "        vertical-align: middle;\n",
       "    }\n",
       "\n",
       "    .dataframe tbody tr th {\n",
       "        vertical-align: top;\n",
       "    }\n",
       "\n",
       "    .dataframe thead th {\n",
       "        text-align: right;\n",
       "    }\n",
       "</style>\n",
       "<table border=\"1\" class=\"dataframe\">\n",
       "  <thead>\n",
       "    <tr style=\"text-align: right;\">\n",
       "      <th></th>\n",
       "      <th>Coefs</th>\n",
       "      <th>Column Names</th>\n",
       "    </tr>\n",
       "  </thead>\n",
       "  <tbody>\n",
       "    <tr>\n",
       "      <th>0</th>\n",
       "      <td>-0.586750</td>\n",
       "      <td>General_Health</td>\n",
       "    </tr>\n",
       "    <tr>\n",
       "      <th>1</th>\n",
       "      <td>-0.206146</td>\n",
       "      <td>Checkup</td>\n",
       "    </tr>\n",
       "    <tr>\n",
       "      <th>2</th>\n",
       "      <td>-0.028447</td>\n",
       "      <td>Exercise</td>\n",
       "    </tr>\n",
       "    <tr>\n",
       "      <th>3</th>\n",
       "      <td>0.106338</td>\n",
       "      <td>Skin_Cancer</td>\n",
       "    </tr>\n",
       "    <tr>\n",
       "      <th>4</th>\n",
       "      <td>0.057997</td>\n",
       "      <td>Other_Cancer</td>\n",
       "    </tr>\n",
       "    <tr>\n",
       "      <th>5</th>\n",
       "      <td>0.238527</td>\n",
       "      <td>Depression</td>\n",
       "    </tr>\n",
       "    <tr>\n",
       "      <th>6</th>\n",
       "      <td>0.439197</td>\n",
       "      <td>Diabetes</td>\n",
       "    </tr>\n",
       "    <tr>\n",
       "      <th>7</th>\n",
       "      <td>0.259370</td>\n",
       "      <td>Arthritis</td>\n",
       "    </tr>\n",
       "    <tr>\n",
       "      <th>8</th>\n",
       "      <td>0.892743</td>\n",
       "      <td>Sex</td>\n",
       "    </tr>\n",
       "    <tr>\n",
       "      <th>9</th>\n",
       "      <td>0.275974</td>\n",
       "      <td>Age_Category</td>\n",
       "    </tr>\n",
       "    <tr>\n",
       "      <th>10</th>\n",
       "      <td>-0.024110</td>\n",
       "      <td>Height_(cm)</td>\n",
       "    </tr>\n",
       "    <tr>\n",
       "      <th>11</th>\n",
       "      <td>0.016046</td>\n",
       "      <td>Weight_(kg)</td>\n",
       "    </tr>\n",
       "    <tr>\n",
       "      <th>12</th>\n",
       "      <td>-0.042964</td>\n",
       "      <td>BMI</td>\n",
       "    </tr>\n",
       "    <tr>\n",
       "      <th>13</th>\n",
       "      <td>0.394610</td>\n",
       "      <td>Smoking_History</td>\n",
       "    </tr>\n",
       "    <tr>\n",
       "      <th>14</th>\n",
       "      <td>-0.010444</td>\n",
       "      <td>Alcohol_Consumption</td>\n",
       "    </tr>\n",
       "    <tr>\n",
       "      <th>15</th>\n",
       "      <td>0.000104</td>\n",
       "      <td>Fruit_Consumption</td>\n",
       "    </tr>\n",
       "    <tr>\n",
       "      <th>16</th>\n",
       "      <td>0.000759</td>\n",
       "      <td>Green_Vegetables_Consumption</td>\n",
       "    </tr>\n",
       "    <tr>\n",
       "      <th>17</th>\n",
       "      <td>-0.001499</td>\n",
       "      <td>FriedPotato_Consumption</td>\n",
       "    </tr>\n",
       "  </tbody>\n",
       "</table>\n",
       "</div>"
      ],
      "text/plain": [
       "       Coefs                  Column Names\n",
       "0  -0.586750                General_Health\n",
       "1  -0.206146                       Checkup\n",
       "2  -0.028447                      Exercise\n",
       "3   0.106338                   Skin_Cancer\n",
       "4   0.057997                  Other_Cancer\n",
       "5   0.238527                    Depression\n",
       "6   0.439197                      Diabetes\n",
       "7   0.259370                     Arthritis\n",
       "8   0.892743                           Sex\n",
       "9   0.275974                  Age_Category\n",
       "10 -0.024110                   Height_(cm)\n",
       "11  0.016046                   Weight_(kg)\n",
       "12 -0.042964                           BMI\n",
       "13  0.394610               Smoking_History\n",
       "14 -0.010444           Alcohol_Consumption\n",
       "15  0.000104             Fruit_Consumption\n",
       "16  0.000759  Green_Vegetables_Consumption\n",
       "17 -0.001499       FriedPotato_Consumption"
      ]
     },
     "execution_count": 10,
     "metadata": {},
     "output_type": "execute_result"
    }
   ],
   "source": [
    "lm_coefs = pd.DataFrame({\"Coefs\":log_model.coef_[:][0],\"Column Names\":x_train.columns})\n",
    "print('Intercept:',log_model.intercept_)\n",
    "lm_coefs"
   ]
  },
  {
   "cell_type": "code",
   "execution_count": 11,
   "id": "af867b22-21f1-4417-aa2c-75b9f2cc794e",
   "metadata": {},
   "outputs": [
    {
     "name": "stdout",
     "output_type": "stream",
     "text": [
      "Logistic Model Score on Training Data: 0.9192079446060769\n",
      "Logistic Model Score on Testing Data: 0.9182360749862396\n"
     ]
    }
   ],
   "source": [
    "#Features\n",
    "X = df[['Arthritis','Smoking_History','Age_Category','Diabetes','Depression']]\n",
    "\n",
    "#Labels\n",
    "y = df['Heart_Disease']\n",
    "\n",
    "#Splitting the data into training and testing; 70% Training, 30% Testing\n",
    "#80-20 yielded worse results\n",
    "x_train, x_test, y_train, y_test = train_test_split(X,y,test_size=.3,train_size=.7,random_state=12)\n",
    "\n",
    "#Creating a Logistic Regression Object\n",
    "log_model_2 = LogisticRegression(max_iter=20000)\n",
    "\n",
    "#Fitting the training data to a logistic model\n",
    "log_model_2.fit(x_train,y_train)\n",
    "\n",
    "#Training the log model on the x_test data\n",
    "y_pred_2 = log_model_2.predict(x_test)\n",
    "\n",
    "#printing the score(error) of the fitted log_model\n",
    "print(\"Logistic Model Score on Training Data:\",log_model_2.score(x_train,y_train))\n",
    "\n",
    "#Printing the score of the fitted log_model on testing data\n",
    "print(\"Logistic Model Score on Testing Data:\",log_model_2.score(x_test,y_test))\n",
    "\n",
    "lmstr_2 = log_model_2.score(x_train,y_train)\n",
    "lmste_2 = log_model_2.score(x_test,y_test)"
   ]
  },
  {
   "cell_type": "code",
   "execution_count": 12,
   "id": "a8c0b349-46e5-409c-86cc-f1fac399452a",
   "metadata": {},
   "outputs": [
    {
     "name": "stdout",
     "output_type": "stream",
     "text": [
      "Intercept: [-0.02617261]\n"
     ]
    },
    {
     "data": {
      "text/html": [
       "<div>\n",
       "<style scoped>\n",
       "    .dataframe tbody tr th:only-of-type {\n",
       "        vertical-align: middle;\n",
       "    }\n",
       "\n",
       "    .dataframe tbody tr th {\n",
       "        vertical-align: top;\n",
       "    }\n",
       "\n",
       "    .dataframe thead th {\n",
       "        text-align: right;\n",
       "    }\n",
       "</style>\n",
       "<table border=\"1\" class=\"dataframe\">\n",
       "  <thead>\n",
       "    <tr style=\"text-align: right;\">\n",
       "      <th></th>\n",
       "      <th>Coefs</th>\n",
       "      <th>Column Names</th>\n",
       "    </tr>\n",
       "  </thead>\n",
       "  <tbody>\n",
       "    <tr>\n",
       "      <th>0</th>\n",
       "      <td>0.419048</td>\n",
       "      <td>Arthritis</td>\n",
       "    </tr>\n",
       "    <tr>\n",
       "      <th>1</th>\n",
       "      <td>0.580445</td>\n",
       "      <td>Smoking_History</td>\n",
       "    </tr>\n",
       "    <tr>\n",
       "      <th>2</th>\n",
       "      <td>0.291433</td>\n",
       "      <td>Age_Category</td>\n",
       "    </tr>\n",
       "    <tr>\n",
       "      <th>3</th>\n",
       "      <td>0.764459</td>\n",
       "      <td>Diabetes</td>\n",
       "    </tr>\n",
       "    <tr>\n",
       "      <th>4</th>\n",
       "      <td>0.380822</td>\n",
       "      <td>Depression</td>\n",
       "    </tr>\n",
       "  </tbody>\n",
       "</table>\n",
       "</div>"
      ],
      "text/plain": [
       "      Coefs     Column Names\n",
       "0  0.419048        Arthritis\n",
       "1  0.580445  Smoking_History\n",
       "2  0.291433     Age_Category\n",
       "3  0.764459         Diabetes\n",
       "4  0.380822       Depression"
      ]
     },
     "execution_count": 12,
     "metadata": {},
     "output_type": "execute_result"
    }
   ],
   "source": [
    "lm_coefs_2 = pd.DataFrame({\"Coefs\":log_model_2.coef_[:][0],\"Column Names\":x_train.columns})\n",
    "print('Intercept:',log_model.intercept_)\n",
    "lm_coefs_2"
   ]
  },
  {
   "cell_type": "code",
   "execution_count": 13,
   "id": "96a02891-8547-43da-a3c5-a8db988cea6a",
   "metadata": {},
   "outputs": [
    {
     "name": "stdout",
     "output_type": "stream",
     "text": [
      "-0.00040703617533999203\n",
      "-0.00043169970968193194\n"
     ]
    }
   ],
   "source": [
    "#Model 2 performs ever so slightly worse than our original model\n",
    "print(lmstr_2 - lmstr)\n",
    "print(lmste_2 - lmste)\n",
    "\n",
    "#Subtracting the training and testing scores from model 2 by model 1, yield a negative number. \n",
    "#This denotes that model 1 had higher accuracies for both training and testing data"
   ]
  },
  {
   "cell_type": "code",
   "execution_count": 14,
   "id": "10cd6f12-249c-45ff-8239-ca68c6bbdbbc",
   "metadata": {},
   "outputs": [
    {
     "data": {
      "text/plain": [
       "<sklearn.metrics._plot.confusion_matrix.ConfusionMatrixDisplay at 0x13bd64b50>"
      ]
     },
     "execution_count": 14,
     "metadata": {},
     "output_type": "execute_result"
    },
    {
     "data": {
      "image/png": "[encoded data removed]",
      "text/plain": [
       "<Figure size 432x288 with 2 Axes>"
      ]
     },
     "metadata": {
      "needs_background": "light"
     },
     "output_type": "display_data"
    }
   ],
   "source": [
    "confusion_matrix = sklearn.metrics.confusion_matrix(y_test,y_pred_2)\n",
    "sklearn.metrics.ConfusionMatrixDisplay(confusion_matrix).plot()"
   ]
  },
  {
   "cell_type": "code",
   "execution_count": 16,
   "id": "740b4335-84c8-424b-b3bf-9f728fc527d7",
   "metadata": {},
   "outputs": [
    {
     "data": {
      "text/plain": [
       "array([[85057,    50],\n",
       "       [ 7526,    24]])"
      ]
     },
     "execution_count": 16,
     "metadata": {},
     "output_type": "execute_result"
    }
   ],
   "source": [
    "confusion_matrix"
   ]
  },
  {
   "cell_type": "code",
   "execution_count": null,
   "id": "39876fe6-4ce2-4a8a-8da4-03ebd0a46c21",
   "metadata": {},
   "outputs": [],
   "source": []
  },
  {
   "cell_type": "code",
   "execution_count": null,
   "id": "2bbf74e0-7fbf-4c75-93c1-e08b1bb2f80c",
   "metadata": {},
   "outputs": [],
   "source": []
  },
  {
   "cell_type": "code",
   "execution_count": null,
   "id": "fa54d50f-6dc1-42eb-b8e6-c6d99ed3ae93",
   "metadata": {},
   "outputs": [],
   "source": []
  },
  {
   "cell_type": "code",
   "execution_count": 24,
   "id": "b0a57629-6e13-4fc6-b71d-55d1565e4b27",
   "metadata": {},
   "outputs": [
    {
     "data": {
      "text/html": [
       "<div>\n",
       "<style scoped>\n",
       "    .dataframe tbody tr th:only-of-type {\n",
       "        vertical-align: middle;\n",
       "    }\n",
       "\n",
       "    .dataframe tbody tr th {\n",
       "        vertical-align: top;\n",
       "    }\n",
       "\n",
       "    .dataframe thead th {\n",
       "        text-align: right;\n",
       "    }\n",
       "</style>\n",
       "<table border=\"1\" class=\"dataframe\">\n",
       "  <thead>\n",
       "    <tr style=\"text-align: right;\">\n",
       "      <th></th>\n",
       "      <th>General_Health</th>\n",
       "      <th>Checkup</th>\n",
       "      <th>Exercise</th>\n",
       "      <th>Heart_Disease</th>\n",
       "      <th>Skin_Cancer</th>\n",
       "      <th>Other_Cancer</th>\n",
       "      <th>Depression</th>\n",
       "      <th>Diabetes</th>\n",
       "      <th>Arthritis</th>\n",
       "      <th>Sex</th>\n",
       "      <th>Age_Category</th>\n",
       "      <th>Height_(cm)</th>\n",
       "      <th>Weight_(kg)</th>\n",
       "      <th>BMI</th>\n",
       "      <th>Smoking_History</th>\n",
       "      <th>Alcohol_Consumption</th>\n",
       "      <th>Fruit_Consumption</th>\n",
       "      <th>Green_Vegetables_Consumption</th>\n",
       "      <th>FriedPotato_Consumption</th>\n",
       "    </tr>\n",
       "  </thead>\n",
       "  <tbody>\n",
       "    <tr>\n",
       "      <th>0</th>\n",
       "      <td>0</td>\n",
       "      <td>2</td>\n",
       "      <td>0</td>\n",
       "      <td>0</td>\n",
       "      <td>0</td>\n",
       "      <td>0</td>\n",
       "      <td>0</td>\n",
       "      <td>0</td>\n",
       "      <td>1</td>\n",
       "      <td>0</td>\n",
       "      <td>10</td>\n",
       "      <td>150.0</td>\n",
       "      <td>32.66</td>\n",
       "      <td>14.54</td>\n",
       "      <td>1</td>\n",
       "      <td>0.0</td>\n",
       "      <td>30.0</td>\n",
       "      <td>16.0</td>\n",
       "      <td>12.0</td>\n",
       "    </tr>\n",
       "    <tr>\n",
       "      <th>1</th>\n",
       "      <td>3</td>\n",
       "      <td>1</td>\n",
       "      <td>0</td>\n",
       "      <td>1</td>\n",
       "      <td>0</td>\n",
       "      <td>0</td>\n",
       "      <td>0</td>\n",
       "      <td>1</td>\n",
       "      <td>0</td>\n",
       "      <td>0</td>\n",
       "      <td>10</td>\n",
       "      <td>165.0</td>\n",
       "      <td>77.11</td>\n",
       "      <td>28.29</td>\n",
       "      <td>0</td>\n",
       "      <td>0.0</td>\n",
       "      <td>30.0</td>\n",
       "      <td>0.0</td>\n",
       "      <td>4.0</td>\n",
       "    </tr>\n",
       "    <tr>\n",
       "      <th>2</th>\n",
       "      <td>3</td>\n",
       "      <td>1</td>\n",
       "      <td>1</td>\n",
       "      <td>0</td>\n",
       "      <td>0</td>\n",
       "      <td>0</td>\n",
       "      <td>0</td>\n",
       "      <td>1</td>\n",
       "      <td>0</td>\n",
       "      <td>0</td>\n",
       "      <td>8</td>\n",
       "      <td>163.0</td>\n",
       "      <td>88.45</td>\n",
       "      <td>33.47</td>\n",
       "      <td>0</td>\n",
       "      <td>4.0</td>\n",
       "      <td>12.0</td>\n",
       "      <td>3.0</td>\n",
       "      <td>16.0</td>\n",
       "    </tr>\n",
       "    <tr>\n",
       "      <th>3</th>\n",
       "      <td>0</td>\n",
       "      <td>1</td>\n",
       "      <td>1</td>\n",
       "      <td>1</td>\n",
       "      <td>0</td>\n",
       "      <td>0</td>\n",
       "      <td>0</td>\n",
       "      <td>1</td>\n",
       "      <td>0</td>\n",
       "      <td>1</td>\n",
       "      <td>11</td>\n",
       "      <td>180.0</td>\n",
       "      <td>93.44</td>\n",
       "      <td>28.73</td>\n",
       "      <td>0</td>\n",
       "      <td>0.0</td>\n",
       "      <td>30.0</td>\n",
       "      <td>30.0</td>\n",
       "      <td>8.0</td>\n",
       "    </tr>\n",
       "    <tr>\n",
       "      <th>4</th>\n",
       "      <td>2</td>\n",
       "      <td>1</td>\n",
       "      <td>0</td>\n",
       "      <td>0</td>\n",
       "      <td>0</td>\n",
       "      <td>0</td>\n",
       "      <td>0</td>\n",
       "      <td>0</td>\n",
       "      <td>0</td>\n",
       "      <td>1</td>\n",
       "      <td>12</td>\n",
       "      <td>191.0</td>\n",
       "      <td>88.45</td>\n",
       "      <td>24.37</td>\n",
       "      <td>1</td>\n",
       "      <td>0.0</td>\n",
       "      <td>8.0</td>\n",
       "      <td>4.0</td>\n",
       "      <td>0.0</td>\n",
       "    </tr>\n",
       "  </tbody>\n",
       "</table>\n",
       "</div>"
      ],
      "text/plain": [
       "   General_Health  Checkup  Exercise  Heart_Disease  Skin_Cancer  \\\n",
       "0               0        2         0              0            0   \n",
       "1               3        1         0              1            0   \n",
       "2               3        1         1              0            0   \n",
       "3               0        1         1              1            0   \n",
       "4               2        1         0              0            0   \n",
       "\n",
       "   Other_Cancer  Depression  Diabetes  Arthritis  Sex  Age_Category  \\\n",
       "0             0           0         0          1    0            10   \n",
       "1             0           0         1          0    0            10   \n",
       "2             0           0         1          0    0             8   \n",
       "3             0           0         1          0    1            11   \n",
       "4             0           0         0          0    1            12   \n",
       "\n",
       "   Height_(cm)  Weight_(kg)    BMI  Smoking_History  Alcohol_Consumption  \\\n",
       "0        150.0        32.66  14.54                1                  0.0   \n",
       "1        165.0        77.11  28.29                0                  0.0   \n",
       "2        163.0        88.45  33.47                0                  4.0   \n",
       "3        180.0        93.44  28.73                0                  0.0   \n",
       "4        191.0        88.45  24.37                1                  0.0   \n",
       "\n",
       "   Fruit_Consumption  Green_Vegetables_Consumption  FriedPotato_Consumption  \n",
       "0               30.0                          16.0                     12.0  \n",
       "1               30.0                           0.0                      4.0  \n",
       "2               12.0                           3.0                     16.0  \n",
       "3               30.0                          30.0                      8.0  \n",
       "4                8.0                           4.0                      0.0  "
      ]
     },
     "execution_count": 24,
     "metadata": {},
     "output_type": "execute_result"
    }
   ],
   "source": [
    "df.head()"
   ]
  },
  {
   "cell_type": "code",
   "execution_count": 25,
   "id": "873d93ae-b414-4064-abb1-fe15cb5ff3aa",
   "metadata": {},
   "outputs": [
    {
     "name": "stdout",
     "output_type": "stream",
     "text": [
      "Logistic Model Score on Training Data: 0.9190460552181575\n",
      "Logistic Model Score on Testing Data: 0.9181281500588191\n"
     ]
    }
   ],
   "source": [
    "### My model\n",
    "#Features\n",
    "X = df[['Age_Category','Exercise','BMI','Smoking_History','Weight_(kg)', 'Alcohol_Consumption', 'Diabetes', 'Arthritis']]\n",
    "\n",
    "#Labels\n",
    "y = df['Heart_Disease']\n",
    "\n",
    "#Splitting the data into training and testing; 70% Training, 30% Testing\n",
    "#80-20 yielded worse results\n",
    "x_train, x_test, y_train, y_test = train_test_split(X,y,test_size=.3,train_size=.7,random_state=12)\n",
    "\n",
    "#Creating a Logistic Regression Object\n",
    "log_model_2 = LogisticRegression(max_iter=20000)\n",
    "\n",
    "#Fitting the training data to a logistic model\n",
    "log_model_2.fit(x_train,y_train)\n",
    "\n",
    "#Training the log model on the x_test data\n",
    "y_pred_2 = log_model_2.predict(x_test)\n",
    "\n",
    "#printing the score(error) of the fitted log_model\n",
    "print(\"Logistic Model Score on Training Data:\",log_model_2.score(x_train,y_train))\n",
    "\n",
    "#Printing the score of the fitted log_model on testing data\n",
    "print(\"Logistic Model Score on Testing Data:\",log_model_2.score(x_test,y_test))\n",
    "\n",
    "lmstr_1 = log_model_2.score(x_train,y_train)\n",
    "lmste_1 = log_model_2.score(x_test,y_test)"
   ]
  },
  {
   "cell_type": "code",
   "execution_count": 26,
   "id": "5e3eaa44-c9be-4741-9ca5-c44ce94eec0f",
   "metadata": {},
   "outputs": [
    {
     "name": "stdout",
     "output_type": "stream",
     "text": [
      "0.00016188938791938945\n",
      "0.00010792492742051074\n"
     ]
    }
   ],
   "source": [
    "print(lmstr_2 - lmstr_1)\n",
    "print(lmste_2 - lmste_1)"
   ]
  },
  {
   "cell_type": "code",
   "execution_count": 27,
   "id": "cf9c8ba9-7771-4fad-90f0-18ee69ae1274",
   "metadata": {},
   "outputs": [
    {
     "data": {
      "text/plain": [
       "<sklearn.metrics._plot.confusion_matrix.ConfusionMatrixDisplay at 0x13c0c43a0>"
      ]
     },
     "execution_count": 27,
     "metadata": {},
     "output_type": "execute_result"
    },
    {
     "data": {
      "image/png": "[encoded data removed]",
      "text/plain": [
       "<Figure size 432x288 with 2 Axes>"
      ]
     },
     "metadata": {
      "needs_background": "light"
     },
     "output_type": "display_data"
    }
   ],
   "source": [
    "confusion_matrix = sklearn.metrics.confusion_matrix(y_test,y_pred_2)\n",
    "sklearn.metrics.ConfusionMatrixDisplay(confusion_matrix).plot()"
   ]
  },
  {
   "cell_type": "code",
   "execution_count": 111,
   "id": "144409f5-ca7d-48a2-981e-41a364a2e995",
   "metadata": {},
   "outputs": [
    {
     "name": "stdout",
     "output_type": "stream",
     "text": [
      "Logistic Model Score on Training Data: 0.9187454034977358\n",
      "Logistic Model Score on Testing Data: 0.9179986401459145\n"
     ]
    }
   ],
   "source": [
    "### My model\n",
    "#Features\n",
    "X = df[['Age_Category','Exercise','Arthritis' ,'Smoking_History', 'Diabetes']]\n",
    "\n",
    "#Labels\n",
    "y = df['Heart_Disease']\n",
    "\n",
    "#Splitting the data into training and testing; 70% Training, 30% Testing\n",
    "#80-20 yielded worse results\n",
    "x_train, x_test, y_train, y_test = train_test_split(X,y,test_size=.3,train_size=.7,random_state=12)\n",
    "\n",
    "#Creating a Logistic Regression Object\n",
    "log_model_2 = LogisticRegression(max_iter=20000)\n",
    "\n",
    "#Fitting the training data to a logistic model\n",
    "log_model_2.fit(x_train,y_train)\n",
    "\n",
    "#Training the log model on the x_test data\n",
    "y_pred_2 = log_model_2.predict(x_test)\n",
    "\n",
    "#printing the score(error) of the fitted log_model\n",
    "print(\"Logistic Model Score on Training Data:\",log_model_2.score(x_train,y_train))\n",
    "\n",
    "#Printing the score of the fitted log_model on testing data\n",
    "print(\"Logistic Model Score on Testing Data:\",log_model_2.score(x_test,y_test))\n",
    "\n",
    "lmstr_2 = log_model_2.score(x_train,y_train)\n",
    "lmste_2 = log_model_2.score(x_test,y_test)"
   ]
  },
  {
   "cell_type": "code",
   "execution_count": 42,
   "id": "ab232ce1-c7a8-403c-b701-148a6b12249b",
   "metadata": {},
   "outputs": [
    {
     "data": {
      "text/plain": [
       "<sklearn.metrics._plot.confusion_matrix.ConfusionMatrixDisplay at 0x13c195910>"
      ]
     },
     "execution_count": 42,
     "metadata": {},
     "output_type": "execute_result"
    },
    {
     "data": {
      "image/png": "[encoded data removed]",
      "text/plain": [
       "<Figure size 432x288 with 2 Axes>"
      ]
     },
     "metadata": {
      "needs_background": "light"
     },
     "output_type": "display_data"
    }
   ],
   "source": [
    "confusion_matrix = sklearn.metrics.confusion_matrix(y_test,y_pred_2)\n",
    "sklearn.metrics.ConfusionMatrixDisplay(confusion_matrix).plot()"
   ]
  },
  {
   "cell_type": "code",
   "execution_count": 218,
   "id": "296ba279",
   "metadata": {},
   "outputs": [
    {
     "name": "stdout",
     "output_type": "stream",
     "text": [
      "              precision    recall  f1-score   support\n",
      "\n",
      "           0       0.92      1.00      0.96     85107\n",
      "           1       0.44      0.02      0.03      7550\n",
      "\n",
      "    accuracy                           0.92     92657\n",
      "   macro avg       0.68      0.51      0.50     92657\n",
      "weighted avg       0.88      0.92      0.88     92657\n",
      "\n"
     ]
    }
   ],
   "source": [
    "print(classification_report(y_test, y_pred_2))"
   ]
  },
  {
   "cell_type": "code",
   "execution_count": null,
   "id": "371c748e",
   "metadata": {},
   "outputs": [],
   "source": []
  },
  {
   "cell_type": "code",
   "execution_count": 55,
   "id": "0d464e04",
   "metadata": {},
   "outputs": [
    {
     "name": "stdout",
     "output_type": "stream",
     "text": [
      "Optimization terminated successfully.\n",
      "         Current function value: 0.239015\n",
      "         Iterations 8\n"
     ]
    },
    {
     "data": {
      "text/html": [
       "<table class=\"simpletable\">\n",
       "<caption>Logit Regression Results</caption>\n",
       "<tr>\n",
       "  <th>Dep. Variable:</th>     <td>Heart_Disease</td>  <th>  No. Observations:  </th>  <td>308854</td> \n",
       "</tr>\n",
       "<tr>\n",
       "  <th>Model:</th>                 <td>Logit</td>      <th>  Df Residuals:      </th>  <td>308848</td> \n",
       "</tr>\n",
       "<tr>\n",
       "  <th>Method:</th>                 <td>MLE</td>       <th>  Df Model:          </th>  <td>     5</td> \n",
       "</tr>\n",
       "<tr>\n",
       "  <th>Date:</th>            <td>Sun, 15 Dec 2024</td> <th>  Pseudo R-squ.:     </th>  <td>0.1489</td> \n",
       "</tr>\n",
       "<tr>\n",
       "  <th>Time:</th>                <td>12:51:47</td>     <th>  Log-Likelihood:    </th> <td> -73821.</td>\n",
       "</tr>\n",
       "<tr>\n",
       "  <th>converged:</th>             <td>True</td>       <th>  LL-Null:           </th> <td> -86739.</td>\n",
       "</tr>\n",
       "<tr>\n",
       "  <th>Covariance Type:</th>     <td>nonrobust</td>    <th>  LLR p-value:       </th>  <td> 0.000</td> \n",
       "</tr>\n",
       "</table>\n",
       "<table class=\"simpletable\">\n",
       "<tr>\n",
       "         <td></td>            <th>coef</th>     <th>std err</th>      <th>z</th>      <th>P>|z|</th>  <th>[0.025</th>    <th>0.975]</th>  \n",
       "</tr>\n",
       "<tr>\n",
       "  <th>Intercept</th>       <td>   -5.0547</td> <td>    0.030</td> <td> -167.194</td> <td> 0.000</td> <td>   -5.114</td> <td>   -4.995</td>\n",
       "</tr>\n",
       "<tr>\n",
       "  <th>Age_Category</th>    <td>    0.2737</td> <td>    0.003</td> <td>   96.859</td> <td> 0.000</td> <td>    0.268</td> <td>    0.279</td>\n",
       "</tr>\n",
       "<tr>\n",
       "  <th>Exercise</th>        <td>   -0.3396</td> <td>    0.015</td> <td>  -22.809</td> <td> 0.000</td> <td>   -0.369</td> <td>   -0.310</td>\n",
       "</tr>\n",
       "<tr>\n",
       "  <th>Arthritis</th>       <td>    0.4515</td> <td>    0.014</td> <td>   31.538</td> <td> 0.000</td> <td>    0.423</td> <td>    0.480</td>\n",
       "</tr>\n",
       "<tr>\n",
       "  <th>Smoking_History</th> <td>    0.5869</td> <td>    0.014</td> <td>   41.825</td> <td> 0.000</td> <td>    0.559</td> <td>    0.614</td>\n",
       "</tr>\n",
       "<tr>\n",
       "  <th>Diabetes</th>        <td>    0.7586</td> <td>    0.014</td> <td>   54.420</td> <td> 0.000</td> <td>    0.731</td> <td>    0.786</td>\n",
       "</tr>\n",
       "</table>"
      ],
      "text/plain": [
       "<class 'statsmodels.iolib.summary.Summary'>\n",
       "\"\"\"\n",
       "                           Logit Regression Results                           \n",
       "==============================================================================\n",
       "Dep. Variable:          Heart_Disease   No. Observations:               308854\n",
       "Model:                          Logit   Df Residuals:                   308848\n",
       "Method:                           MLE   Df Model:                            5\n",
       "Date:                Sun, 15 Dec 2024   Pseudo R-squ.:                  0.1489\n",
       "Time:                        12:51:47   Log-Likelihood:                -73821.\n",
       "converged:                       True   LL-Null:                       -86739.\n",
       "Covariance Type:            nonrobust   LLR p-value:                     0.000\n",
       "===================================================================================\n",
       "                      coef    std err          z      P>|z|      [0.025      0.975]\n",
       "-----------------------------------------------------------------------------------\n",
       "Intercept          -5.0547      0.030   -167.194      0.000      -5.114      -4.995\n",
       "Age_Category        0.2737      0.003     96.859      0.000       0.268       0.279\n",
       "Exercise           -0.3396      0.015    -22.809      0.000      -0.369      -0.310\n",
       "Arthritis           0.4515      0.014     31.538      0.000       0.423       0.480\n",
       "Smoking_History     0.5869      0.014     41.825      0.000       0.559       0.614\n",
       "Diabetes            0.7586      0.014     54.420      0.000       0.731       0.786\n",
       "===================================================================================\n",
       "\"\"\""
      ]
     },
     "execution_count": 55,
     "metadata": {},
     "output_type": "execute_result"
    }
   ],
   "source": [
    "import statsmodels.formula.api as smf\n",
    "\n",
    "# Correct the formula syntax by ensuring the predictors are separated by '+'\n",
    "logit_reg = smf.logit('Heart_Disease ~ Age_Category + Exercise + Arthritis + Smoking_History + Diabetes', data=df).fit()\n",
    "\n",
    "# Display the summary of the regression results\n",
    "logit_reg.summary()\n"
   ]
  },
  {
   "cell_type": "code",
   "execution_count": 56,
   "id": "a272942a",
   "metadata": {},
   "outputs": [],
   "source": [
    "df_cal = df[['Heart_Disease', 'Age_Category','Exercise','Arthritis' ,'Smoking_History', 'Diabetes']].copy()\n",
    "df_cal['predictions'] = logit_reg.predict(df_cal)"
   ]
  },
  {
   "cell_type": "code",
   "execution_count": 57,
   "id": "d6fdc4d9-3a71-452c-ae24-fca7dfd0a7ae",
   "metadata": {},
   "outputs": [],
   "source": [
    "model_probs = np.linspace(0.05, 0.95, num=10)\n",
    "true_probs = []\n",
    "\n",
    "for prob in model_probs:\n",
    "    true_probs.append(df_cal[(df_cal.predictions >= prob-0.05)\n",
    "                                 & (df_cal.predictions <= prob+0.05)].Heart_Disease.mean())"
   ]
  },
  {
   "cell_type": "code",
   "execution_count": null,
   "id": "a548195f-42b8-401b-86b3-e5efd2afd749",
   "metadata": {},
   "outputs": [],
   "source": [
    "model_probs = np.linspace(0.05, 0.95, num=10)\n",
    "true_probs = []\n",
    "\n",
    "for prob in model_probs:\n",
    "    true_probs.append(df_nomis_cal[(df_nomis_cal.predictions >= prob-0.05)\n",
    "                                 & (df_nomis_cal.predictions <= prob+0.05)].Outcome.mean())"
   ]
  },
  {
   "cell_type": "code",
   "execution_count": 60,
   "id": "d6f970be-3513-4ab8-b0b1-c40367dced12",
   "metadata": {},
   "outputs": [
    {
     "data": {
      "image/png": "[encoded data removed]",
      "text/plain": [
       "<Figure size 720x720 with 1 Axes>"
      ]
     },
     "metadata": {
      "needs_background": "light"
     },
     "output_type": "display_data"
    }
   ],
   "source": [
    "plt.figure(figsize=(10, 10))\n",
    "plt.plot([0, 1], [0, 1])\n",
    "plt.plot(model_probs, true_probs, color='red', marker='o')\n",
    "\n",
    "plt.xlabel('Model probability', fontsize=20)\n",
    "plt.ylabel('True probability', fontsize=20)\n",
    "\n",
    "plt.xticks(fontsize=20)\n",
    "plt.yticks(fontsize=20)\n",
    "\n",
    "sns.despine()"
   ]
  },
  {
   "cell_type": "code",
   "execution_count": null,
   "id": "2eff0e6d-920a-4310-bd8d-0223332ed6a3",
   "metadata": {},
   "outputs": [],
   "source": [
    "### MODEL 1 \n"
   ]
  },
  {
   "cell_type": "code",
   "execution_count": 222,
   "id": "d3063396-4097-4fc6-a60a-f666c9732a18",
   "metadata": {},
   "outputs": [
    {
     "name": "stdout",
     "output_type": "stream",
     "text": [
      "Collecting imbalanced-learn\n",
      "  Downloading imbalanced_learn-0.12.4-py3-none-any.whl (258 kB)\n",
      "\u001b[K     |████████████████████████████████| 258 kB 4.7 MB/s eta 0:00:01\n",
      "\u001b[?25hRequirement already satisfied: threadpoolctl>=2.0.0 in /opt/anaconda3/lib/python3.9/site-packages (from imbalanced-learn) (2.2.0)\n",
      "Requirement already satisfied: scikit-learn>=1.0.2 in /opt/anaconda3/lib/python3.9/site-packages (from imbalanced-learn) (1.0.2)\n",
      "Requirement already satisfied: scipy>=1.5.0 in /opt/anaconda3/lib/python3.9/site-packages (from imbalanced-learn) (1.7.3)\n",
      "Collecting joblib>=1.1.1\n",
      "  Downloading joblib-1.4.2-py3-none-any.whl (301 kB)\n",
      "\u001b[K     |████████████████████████████████| 301 kB 11.7 MB/s eta 0:00:01\n",
      "\u001b[?25hRequirement already satisfied: numpy>=1.17.3 in /opt/anaconda3/lib/python3.9/site-packages (from imbalanced-learn) (1.22.4)\n",
      "Installing collected packages: joblib, imbalanced-learn\n",
      "  Attempting uninstall: joblib\n",
      "    Found existing installation: joblib 1.1.0\n",
      "    Uninstalling joblib-1.1.0:\n",
      "      Successfully uninstalled joblib-1.1.0\n",
      "Successfully installed imbalanced-learn-0.12.4 joblib-1.4.2\n"
     ]
    }
   ],
   "source": [
    "!pip install imbalanced-learn\n"
   ]
  },
  {
   "cell_type": "code",
   "execution_count": 224,
   "id": "2b48d2e2-8ce0-4b19-adfc-2e210513e51f",
   "metadata": {},
   "outputs": [],
   "source": [
    "from imblearn.over_sampling import SMOTE"
   ]
  },
  {
   "cell_type": "code",
   "execution_count": 226,
   "id": "64981141-c4e0-4000-868d-b9d01dd8a149",
   "metadata": {},
   "outputs": [
    {
     "name": "stdout",
     "output_type": "stream",
     "text": [
      "Optimization terminated successfully.\n",
      "         Current function value: 0.554143\n",
      "         Iterations 6\n",
      "                           Logit Regression Results                           \n",
      "==============================================================================\n",
      "Dep. Variable:          Heart_Disease   No. Observations:               454218\n",
      "Model:                          Logit   Df Residuals:                   454209\n",
      "Method:                           MLE   Df Model:                            8\n",
      "Date:                Sun, 15 Dec 2024   Pseudo R-squ.:                  0.2005\n",
      "Time:                        17:35:48   Log-Likelihood:            -2.5170e+05\n",
      "converged:                       True   LL-Null:                   -3.1484e+05\n",
      "Covariance Type:            nonrobust   LLR p-value:                     0.000\n",
      "=======================================================================================\n",
      "                          coef    std err          z      P>|z|      [0.025      0.975]\n",
      "---------------------------------------------------------------------------------------\n",
      "const                  -3.1810      0.023   -139.796      0.000      -3.226      -3.136\n",
      "BMI                     0.0193      0.001     34.741      0.000       0.018       0.020\n",
      "Exercise               -0.6044      0.008    -77.996      0.000      -0.620      -0.589\n",
      "Smoking_History         0.4220      0.007     60.848      0.000       0.408       0.436\n",
      "Alcohol_Consumption    -0.0127      0.000    -30.338      0.000      -0.014      -0.012\n",
      "Age_Category            0.2934      0.001    225.777      0.000       0.291       0.296\n",
      "Sex                     0.5948      0.007     83.987      0.000       0.581       0.609\n",
      "Diabetes                0.4710      0.008     57.514      0.000       0.455       0.487\n",
      "Arthritis               0.3539      0.007     48.652      0.000       0.340       0.368\n",
      "=======================================================================================\n"
     ]
    }
   ],
   "source": [
    "# Define independent variables (including 'test_coupon' and its interactions)\n",
    "X_browsing = df[['BMI',  'Exercise', 'Smoking_History', 'Alcohol_Consumption', 'Age_Category', 'Sex', 'Diabetes', 'Arthritis']]\n",
    "\n",
    "# Add constant term to the independent variables\n",
    "X_browsing = sm.add_constant(X_browsing)\n",
    "\n",
    "# # Add interaction terms\n",
    "# X_browsing['Exercise_BMI'] = X_browsing['BMI'] * X_browsing['Exercise']\n",
    "# X_browsing['Exercise_Fruit_Consump'] = X_browsing['Exercise'] * X_browsing['Fruit_Consumption']\n",
    "# X_browsing['Exercise_ Alcohol_Consump'] = X_browsing['Exercise'] * X_browsing['Alcohol_Consumption']\n",
    "# X_browsing['Diabetes_BMI'] = X_browsing['Diabetes'] * X_browsing['BMI']\n",
    "# X_browsing['Diabetes_Sex'] = X_browsing['Diabetes'] * X_browsing['Sex']\n",
    "# X_browsing['Diabetes_Smoking_Hist'] = X_browsing['Diabetes'] * X_browsing['Smoking_History']\n",
    "\n",
    "\n",
    "# Define the dependent variable (revenue after coupon)\n",
    "y_browsing = df['Heart_Disease']\n",
    "\n",
    "# Split the data into training and testing sets\n",
    "X_train, X_test, y_train, y_test = train_test_split(X_browsing, y_browsing, test_size=0.2, random_state=42)\n",
    "\n",
    "# Apply Smote\n",
    "smote = SMOTE(random_state=42)\n",
    "X_train_resampled, y_train_resampled = smote.fit_resample(X_train, y_train)\n",
    "\n",
    "# Fit the logistic regression model on the resampled data\n",
    "model_browsing = sm.Logit(y_train_resampled, X_train_resampled).fit()\n",
    "\n",
    "# Print the model summary\n",
    "print(model_browsing.summary())"
   ]
  },
  {
   "cell_type": "code",
   "execution_count": 228,
   "id": "807c421c-e5fb-4951-85a2-0236cf65bbfc",
   "metadata": {},
   "outputs": [],
   "source": [
    "df_cal = df[['Heart_Disease', 'BMI',  'Exercise', 'Smoking_History', 'Alcohol_Consumption', 'Age_Category', 'Sex', 'Diabetes', 'Arthritis']].copy()\n",
    "\n",
    "df_cal['predictions'] = model_browsing.predict(df_cal)"
   ]
  },
  {
   "cell_type": "code",
   "execution_count": 230,
   "id": "6819502d-0a22-4b4f-9c97-6e9ddfd0dd44",
   "metadata": {},
   "outputs": [],
   "source": [
    "model_probs = np.linspace(0.05, 0.95, num=30)\n",
    "true_probs = []\n",
    "\n",
    "for prob in model_probs:\n",
    "    true_probs.append(df_cal[(df_cal.predictions >= prob-0.05)\n",
    "                                 & (df_cal.predictions <= prob+0.05)].Heart_Disease.mean())"
   ]
  },
  {
   "cell_type": "code",
   "execution_count": 232,
   "id": "1f1bcb32-cdf6-411c-a3de-05fe87bed7d9",
   "metadata": {},
   "outputs": [
    {
     "data": {
      "image/png": "[encoded data removed]",
      "text/plain": [
       "<Figure size 720x720 with 1 Axes>"
      ]
     },
     "metadata": {
      "needs_background": "light"
     },
     "output_type": "display_data"
    }
   ],
   "source": [
    "plt.figure(figsize=(10, 10))\n",
    "plt.plot([0, 1], [0, 1])\n",
    "plt.plot(model_probs, true_probs, color='red', marker='o')\n",
    "\n",
    "plt.xlabel('Model probability', fontsize=20)\n",
    "plt.ylabel('True probability', fontsize=20)\n",
    "\n",
    "plt.xticks(fontsize=20)\n",
    "plt.yticks(fontsize=20)\n",
    "\n",
    "sns.despine()"
   ]
  },
  {
   "cell_type": "code",
   "execution_count": 234,
   "id": "209d2c42-67fa-4188-98ea-480d0ceb5b33",
   "metadata": {},
   "outputs": [
    {
     "name": "stdout",
     "output_type": "stream",
     "text": [
      "Train AUC: 0.8013827887353515\n",
      "Test AUC: 0.8019390261697794\n"
     ]
    }
   ],
   "source": [
    "from sklearn.metrics import roc_auc_score\n",
    "\n",
    "train_preds = model_browsing.predict(X_train)\n",
    "test_preds = model_browsing.predict(X_test)\n",
    "\n",
    "print(\"Train AUC:\", roc_auc_score(y_train, train_preds))\n",
    "print(\"Test AUC:\", roc_auc_score(y_test, test_preds))"
   ]
  },
  {
   "cell_type": "code",
   "execution_count": null,
   "id": "f21728ab-9f82-4f95-bd86-3d46bbbf143a",
   "metadata": {},
   "outputs": [],
   "source": []
  },
  {
   "cell_type": "code",
   "execution_count": null,
   "id": "9d938dab-fb50-495a-9a54-ef9f73c7b325",
   "metadata": {},
   "outputs": [],
   "source": []
  },
  {
   "cell_type": "code",
   "execution_count": null,
   "id": "cbb5d9b4-baa7-4e28-a5df-3eb7fa9a0b64",
   "metadata": {},
   "outputs": [],
   "source": [
    "MODEL 2"
   ]
  },
  {
   "cell_type": "code",
   "execution_count": 140,
   "id": "5b8bc93a-9d6d-4fc8-87e2-e09afcfded7f",
   "metadata": {},
   "outputs": [
    {
     "name": "stdout",
     "output_type": "stream",
     "text": [
      "Optimization terminated successfully.\n",
      "         Current function value: 0.233853\n",
      "         Iterations 8\n",
      "                           Logit Regression Results                           \n",
      "==============================================================================\n",
      "Dep. Variable:          Heart_Disease   No. Observations:               247083\n",
      "Model:                          Logit   Df Residuals:                   247068\n",
      "Method:                           MLE   Df Model:                           14\n",
      "Date:                Sun, 15 Dec 2024   Pseudo R-squ.:                  0.1672\n",
      "Time:                        14:11:18   Log-Likelihood:                -57781.\n",
      "converged:                       True   LL-Null:                       -69384.\n",
      "Covariance Type:            nonrobust   LLR p-value:                     0.000\n",
      "=============================================================================================\n",
      "                                coef    std err          z      P>|z|      [0.025      0.975]\n",
      "---------------------------------------------------------------------------------------------\n",
      "const                        -5.6557      0.078    -72.932      0.000      -5.808      -5.504\n",
      "BMI                           0.0082      0.002      3.772      0.000       0.004       0.012\n",
      "Exercise                     -0.7196      0.078     -9.254      0.000      -0.872      -0.567\n",
      "Smoking_History               0.5598      0.019     28.970      0.000       0.522       0.598\n",
      "Alcohol_Consumption          -0.0167      0.002     -8.940      0.000      -0.020      -0.013\n",
      "Age_Category                  0.2843      0.003     86.268      0.000       0.278       0.291\n",
      "Sex                           0.7319      0.020     37.108      0.000       0.693       0.771\n",
      "Diabetes                      0.8487      0.078     10.918      0.000       0.696       1.001\n",
      "Arthritis                     0.5008      0.016     30.467      0.000       0.469       0.533\n",
      "Exercise_BMI                  0.0132      0.002      5.390      0.000       0.008       0.018\n",
      "Exercise_Fruit_Consump       -0.0009      0.000     -2.285      0.022      -0.002      -0.000\n",
      "Exercise_ Alcohol_Consump -3.994e-06      0.002     -0.002      0.999      -0.004       0.004\n",
      "Diabetes_BMI                 -0.0055      0.002     -2.319      0.020      -0.010      -0.001\n",
      "Diabetes_Sex                  0.0862      0.032      2.682      0.007       0.023       0.149\n",
      "Diabetes_Smoking_Hist        -0.0953      0.032     -2.964      0.003      -0.158      -0.032\n",
      "=============================================================================================\n"
     ]
    }
   ],
   "source": [
    "# Define independent variables (including 'test_coupon' and its interactions)\n",
    "X_browsing = df[['BMI',  'Exercise', 'Smoking_History', 'Alcohol_Consumption', 'Age_Category', 'Sex', 'Diabetes', 'Arthritis']]\n",
    "\n",
    "# Add constant term to the independent variables\n",
    "X_browsing = sm.add_constant(X_browsing)\n",
    "\n",
    "# Add interaction terms\n",
    "X_browsing['Exercise_BMI'] = X_browsing['BMI'] * X_browsing['Exercise']\n",
    "X_browsing['Exercise_Fruit_Consump'] = X_browsing['Exercise'] * df['Fruit_Consumption']\n",
    "X_browsing['Exercise_ Alcohol_Consump'] = X_browsing['Exercise'] * X_browsing['Alcohol_Consumption']\n",
    "X_browsing['Diabetes_BMI'] = X_browsing['Diabetes'] * X_browsing['BMI']\n",
    "X_browsing['Diabetes_Sex'] = X_browsing['Diabetes'] * X_browsing['Sex']\n",
    "X_browsing['Diabetes_Smoking_Hist'] = X_browsing['Diabetes'] * X_browsing['Smoking_History']\n",
    "\n",
    "\n",
    "\n",
    "# Define the dependent variable (revenue after coupon)\n",
    "y_browsing = df['Heart_Disease']\n",
    "\n",
    "# Split the data into training and testing sets\n",
    "X_train, X_test, y_train, y_test = train_test_split(X_browsing, y_browsing, test_size=0.2, random_state=42)\n",
    "\n",
    "# Fit the regression model\n",
    "model_browsing = sm.Logit(y_train, X_train).fit()\n",
    "\n",
    "# Print the model summary\n",
    "print(model_browsing.summary())\n"
   ]
  },
  {
   "cell_type": "code",
   "execution_count": 141,
   "id": "1fd6e698-1555-4102-ac6c-8f2ebc119888",
   "metadata": {},
   "outputs": [],
   "source": [
    "df_cal = df[['Heart_Disease', 'BMI',  'Exercise', 'Smoking_History', 'Alcohol_Consumption', 'Age_Category', 'Sex', 'Diabetes', 'Arthritis']].copy()\n",
    "df_cal['Exercise_BMI'] = df_cal['BMI'] * df_cal['Exercise']\n",
    "df_cal['Exercise_Fruit_Consump'] = df_cal['Exercise'] * df['Fruit_Consumption']\n",
    "df_cal['Exercise_ Alcohol_Consump'] = df_cal['Exercise'] * df_cal['Alcohol_Consumption']\n",
    "df_cal['Diabetes_BMI'] = df_cal['Diabetes'] * df_cal['BMI']\n",
    "df_cal['Diabetes_Sex'] = df_cal['Diabetes'] * df_cal['Sex']\n",
    "df_cal['Diabetes_Smoking_Hist'] = df_cal['Diabetes'] * df_cal['Smoking_History']\n",
    "df_cal['predictions'] = model_browsing.predict(df_cal)"
   ]
  },
  {
   "cell_type": "code",
   "execution_count": 144,
   "id": "5aa8b77b-5636-41f1-8816-8ca55c227e4d",
   "metadata": {},
   "outputs": [
    {
     "data": {
      "text/html": [
       "<div>\n",
       "<style scoped>\n",
       "    .dataframe tbody tr th:only-of-type {\n",
       "        vertical-align: middle;\n",
       "    }\n",
       "\n",
       "    .dataframe tbody tr th {\n",
       "        vertical-align: top;\n",
       "    }\n",
       "\n",
       "    .dataframe thead th {\n",
       "        text-align: right;\n",
       "    }\n",
       "</style>\n",
       "<table border=\"1\" class=\"dataframe\">\n",
       "  <thead>\n",
       "    <tr style=\"text-align: right;\">\n",
       "      <th></th>\n",
       "      <th>Heart_Disease</th>\n",
       "      <th>BMI</th>\n",
       "      <th>Exercise</th>\n",
       "      <th>Smoking_History</th>\n",
       "      <th>Alcohol_Consumption</th>\n",
       "      <th>Age_Category</th>\n",
       "      <th>Sex</th>\n",
       "      <th>Diabetes</th>\n",
       "      <th>Arthritis</th>\n",
       "      <th>Exercise_BMI</th>\n",
       "      <th>Exercise_Fruit_Consump</th>\n",
       "      <th>Exercise_ Alcohol_Consump</th>\n",
       "      <th>Diabetes_BMI</th>\n",
       "      <th>Diabetes_Sex</th>\n",
       "      <th>Diabetes_Smoking_Hist</th>\n",
       "      <th>predictions</th>\n",
       "    </tr>\n",
       "  </thead>\n",
       "  <tbody>\n",
       "    <tr>\n",
       "      <th>0</th>\n",
       "      <td>0</td>\n",
       "      <td>14.54</td>\n",
       "      <td>0</td>\n",
       "      <td>1</td>\n",
       "      <td>0.0</td>\n",
       "      <td>10</td>\n",
       "      <td>0</td>\n",
       "      <td>0</td>\n",
       "      <td>1</td>\n",
       "      <td>0.00</td>\n",
       "      <td>0.0</td>\n",
       "      <td>0.0</td>\n",
       "      <td>0.00</td>\n",
       "      <td>0</td>\n",
       "      <td>0</td>\n",
       "      <td>0.982408</td>\n",
       "    </tr>\n",
       "    <tr>\n",
       "      <th>1</th>\n",
       "      <td>1</td>\n",
       "      <td>28.29</td>\n",
       "      <td>0</td>\n",
       "      <td>0</td>\n",
       "      <td>0.0</td>\n",
       "      <td>10</td>\n",
       "      <td>0</td>\n",
       "      <td>1</td>\n",
       "      <td>0</td>\n",
       "      <td>0.00</td>\n",
       "      <td>0.0</td>\n",
       "      <td>0.0</td>\n",
       "      <td>28.29</td>\n",
       "      <td>0</td>\n",
       "      <td>0</td>\n",
       "      <td>0.131365</td>\n",
       "    </tr>\n",
       "    <tr>\n",
       "      <th>2</th>\n",
       "      <td>0</td>\n",
       "      <td>33.47</td>\n",
       "      <td>1</td>\n",
       "      <td>0</td>\n",
       "      <td>4.0</td>\n",
       "      <td>8</td>\n",
       "      <td>0</td>\n",
       "      <td>1</td>\n",
       "      <td>0</td>\n",
       "      <td>33.47</td>\n",
       "      <td>12.0</td>\n",
       "      <td>4.0</td>\n",
       "      <td>33.47</td>\n",
       "      <td>0</td>\n",
       "      <td>0</td>\n",
       "      <td>0.945663</td>\n",
       "    </tr>\n",
       "    <tr>\n",
       "      <th>3</th>\n",
       "      <td>1</td>\n",
       "      <td>28.73</td>\n",
       "      <td>1</td>\n",
       "      <td>0</td>\n",
       "      <td>0.0</td>\n",
       "      <td>11</td>\n",
       "      <td>1</td>\n",
       "      <td>1</td>\n",
       "      <td>0</td>\n",
       "      <td>28.73</td>\n",
       "      <td>30.0</td>\n",
       "      <td>0.0</td>\n",
       "      <td>28.73</td>\n",
       "      <td>1</td>\n",
       "      <td>0</td>\n",
       "      <td>0.239954</td>\n",
       "    </tr>\n",
       "    <tr>\n",
       "      <th>4</th>\n",
       "      <td>0</td>\n",
       "      <td>24.37</td>\n",
       "      <td>0</td>\n",
       "      <td>1</td>\n",
       "      <td>0.0</td>\n",
       "      <td>12</td>\n",
       "      <td>1</td>\n",
       "      <td>0</td>\n",
       "      <td>0</td>\n",
       "      <td>0.00</td>\n",
       "      <td>0.0</td>\n",
       "      <td>0.0</td>\n",
       "      <td>0.00</td>\n",
       "      <td>0</td>\n",
       "      <td>0</td>\n",
       "      <td>0.992628</td>\n",
       "    </tr>\n",
       "    <tr>\n",
       "      <th>...</th>\n",
       "      <td>...</td>\n",
       "      <td>...</td>\n",
       "      <td>...</td>\n",
       "      <td>...</td>\n",
       "      <td>...</td>\n",
       "      <td>...</td>\n",
       "      <td>...</td>\n",
       "      <td>...</td>\n",
       "      <td>...</td>\n",
       "      <td>...</td>\n",
       "      <td>...</td>\n",
       "      <td>...</td>\n",
       "      <td>...</td>\n",
       "      <td>...</td>\n",
       "      <td>...</td>\n",
       "      <td>...</td>\n",
       "    </tr>\n",
       "    <tr>\n",
       "      <th>308849</th>\n",
       "      <td>0</td>\n",
       "      <td>29.05</td>\n",
       "      <td>1</td>\n",
       "      <td>0</td>\n",
       "      <td>4.0</td>\n",
       "      <td>1</td>\n",
       "      <td>1</td>\n",
       "      <td>0</td>\n",
       "      <td>0</td>\n",
       "      <td>29.05</td>\n",
       "      <td>30.0</td>\n",
       "      <td>4.0</td>\n",
       "      <td>0.00</td>\n",
       "      <td>0</td>\n",
       "      <td>0</td>\n",
       "      <td>0.695096</td>\n",
       "    </tr>\n",
       "    <tr>\n",
       "      <th>308850</th>\n",
       "      <td>0</td>\n",
       "      <td>21.48</td>\n",
       "      <td>1</td>\n",
       "      <td>0</td>\n",
       "      <td>8.0</td>\n",
       "      <td>9</td>\n",
       "      <td>1</td>\n",
       "      <td>1</td>\n",
       "      <td>0</td>\n",
       "      <td>21.48</td>\n",
       "      <td>15.0</td>\n",
       "      <td>8.0</td>\n",
       "      <td>21.48</td>\n",
       "      <td>1</td>\n",
       "      <td>0</td>\n",
       "      <td>0.975863</td>\n",
       "    </tr>\n",
       "    <tr>\n",
       "      <th>308851</th>\n",
       "      <td>0</td>\n",
       "      <td>24.69</td>\n",
       "      <td>1</td>\n",
       "      <td>1</td>\n",
       "      <td>4.0</td>\n",
       "      <td>2</td>\n",
       "      <td>0</td>\n",
       "      <td>2</td>\n",
       "      <td>0</td>\n",
       "      <td>24.69</td>\n",
       "      <td>40.0</td>\n",
       "      <td>4.0</td>\n",
       "      <td>49.38</td>\n",
       "      <td>0</td>\n",
       "      <td>2</td>\n",
       "      <td>0.887693</td>\n",
       "    </tr>\n",
       "    <tr>\n",
       "      <th>308852</th>\n",
       "      <td>0</td>\n",
       "      <td>23.73</td>\n",
       "      <td>1</td>\n",
       "      <td>0</td>\n",
       "      <td>3.0</td>\n",
       "      <td>9</td>\n",
       "      <td>1</td>\n",
       "      <td>0</td>\n",
       "      <td>0</td>\n",
       "      <td>23.73</td>\n",
       "      <td>30.0</td>\n",
       "      <td>3.0</td>\n",
       "      <td>0.00</td>\n",
       "      <td>0</td>\n",
       "      <td>0</td>\n",
       "      <td>0.952630</td>\n",
       "    </tr>\n",
       "    <tr>\n",
       "      <th>308853</th>\n",
       "      <td>0</td>\n",
       "      <td>31.71</td>\n",
       "      <td>1</td>\n",
       "      <td>0</td>\n",
       "      <td>1.0</td>\n",
       "      <td>5</td>\n",
       "      <td>0</td>\n",
       "      <td>0</td>\n",
       "      <td>0</td>\n",
       "      <td>31.71</td>\n",
       "      <td>5.0</td>\n",
       "      <td>1.0</td>\n",
       "      <td>0.00</td>\n",
       "      <td>0</td>\n",
       "      <td>0</td>\n",
       "      <td>0.795599</td>\n",
       "    </tr>\n",
       "  </tbody>\n",
       "</table>\n",
       "<p>308854 rows × 16 columns</p>\n",
       "</div>"
      ],
      "text/plain": [
       "        Heart_Disease    BMI  Exercise  Smoking_History  Alcohol_Consumption  \\\n",
       "0                   0  14.54         0                1                  0.0   \n",
       "1                   1  28.29         0                0                  0.0   \n",
       "2                   0  33.47         1                0                  4.0   \n",
       "3                   1  28.73         1                0                  0.0   \n",
       "4                   0  24.37         0                1                  0.0   \n",
       "...               ...    ...       ...              ...                  ...   \n",
       "308849              0  29.05         1                0                  4.0   \n",
       "308850              0  21.48         1                0                  8.0   \n",
       "308851              0  24.69         1                1                  4.0   \n",
       "308852              0  23.73         1                0                  3.0   \n",
       "308853              0  31.71         1                0                  1.0   \n",
       "\n",
       "        Age_Category  Sex  Diabetes  Arthritis  Exercise_BMI  \\\n",
       "0                 10    0         0          1          0.00   \n",
       "1                 10    0         1          0          0.00   \n",
       "2                  8    0         1          0         33.47   \n",
       "3                 11    1         1          0         28.73   \n",
       "4                 12    1         0          0          0.00   \n",
       "...              ...  ...       ...        ...           ...   \n",
       "308849             1    1         0          0         29.05   \n",
       "308850             9    1         1          0         21.48   \n",
       "308851             2    0         2          0         24.69   \n",
       "308852             9    1         0          0         23.73   \n",
       "308853             5    0         0          0         31.71   \n",
       "\n",
       "        Exercise_Fruit_Consump  Exercise_ Alcohol_Consump  Diabetes_BMI  \\\n",
       "0                          0.0                        0.0          0.00   \n",
       "1                          0.0                        0.0         28.29   \n",
       "2                         12.0                        4.0         33.47   \n",
       "3                         30.0                        0.0         28.73   \n",
       "4                          0.0                        0.0          0.00   \n",
       "...                        ...                        ...           ...   \n",
       "308849                    30.0                        4.0          0.00   \n",
       "308850                    15.0                        8.0         21.48   \n",
       "308851                    40.0                        4.0         49.38   \n",
       "308852                    30.0                        3.0          0.00   \n",
       "308853                     5.0                        1.0          0.00   \n",
       "\n",
       "        Diabetes_Sex  Diabetes_Smoking_Hist  predictions  \n",
       "0                  0                      0     0.982408  \n",
       "1                  0                      0     0.131365  \n",
       "2                  0                      0     0.945663  \n",
       "3                  1                      0     0.239954  \n",
       "4                  0                      0     0.992628  \n",
       "...              ...                    ...          ...  \n",
       "308849             0                      0     0.695096  \n",
       "308850             1                      0     0.975863  \n",
       "308851             0                      2     0.887693  \n",
       "308852             0                      0     0.952630  \n",
       "308853             0                      0     0.795599  \n",
       "\n",
       "[308854 rows x 16 columns]"
      ]
     },
     "execution_count": 144,
     "metadata": {},
     "output_type": "execute_result"
    }
   ],
   "source": [
    "df_cal"
   ]
  },
  {
   "cell_type": "code",
   "execution_count": 146,
   "id": "119370e2-a768-495e-9841-75042a48cb88",
   "metadata": {},
   "outputs": [],
   "source": [
    "model_probs = np.linspace(0.05, 0.95, num=30)\n",
    "true_probs = []\n",
    "\n",
    "for prob in model_probs:\n",
    "    true_probs.append(df_cal[(df_cal.predictions >= prob-0.05)\n",
    "                                 & (df_cal.predictions <= prob+0.05)].Heart_Disease.mean())"
   ]
  },
  {
   "cell_type": "code",
   "execution_count": 147,
   "id": "17d32dd9-2909-4028-9daa-b707ff6b46d5",
   "metadata": {},
   "outputs": [
    {
     "data": {
      "image/png": "[encoded data removed]",
      "text/plain": [
       "<Figure size 720x720 with 1 Axes>"
      ]
     },
     "metadata": {
      "needs_background": "light"
     },
     "output_type": "display_data"
    }
   ],
   "source": [
    "plt.figure(figsize=(10, 10))\n",
    "plt.plot([0, 1], [0, 1])\n",
    "plt.plot(model_probs, true_probs, color='red', marker='o')\n",
    "\n",
    "plt.xlabel('Model probability', fontsize=20)\n",
    "plt.ylabel('True probability', fontsize=20)\n",
    "\n",
    "plt.xticks(fontsize=20)\n",
    "plt.yticks(fontsize=20)\n",
    "\n",
    "sns.despine()"
   ]
  },
  {
   "cell_type": "code",
   "execution_count": 150,
   "id": "0e22a91c-a002-4b4c-80f6-e0617134c3f5",
   "metadata": {},
   "outputs": [
    {
     "data": {
      "image/png": "[encoded data removed]",
      "text/plain": [
       "<Figure size 720x720 with 1 Axes>"
      ]
     },
     "metadata": {
      "needs_background": "light"
     },
     "output_type": "display_data"
    }
   ],
   "source": [
    "# Add fixed bins to calculate true probabilities\n",
    "df_cal['pred_bin'] = pd.cut(df_cal['predictions'], bins=np.linspace(0, 1, 21))\n",
    "\n",
    "# Calculate mean true probabilities for each bin\n",
    "true_probs = df_cal.groupby('pred_bin')['Heart_Disease'].mean()\n",
    "\n",
    "# Bin centers for x-axis\n",
    "bin_centers = [interval.mid for interval in true_probs.index]\n",
    "\n",
    "# Plot calibration curve\n",
    "plt.figure(figsize=(10, 10))\n",
    "plt.plot([0, 1], [0, 1], linestyle='--', color='blue', label='Perfect Calibration')\n",
    "plt.plot(bin_centers, true_probs, color='red', marker='o', label='Model Calibration')\n",
    "\n",
    "plt.xlabel('Model probability', fontsize=20)\n",
    "plt.ylabel('True probability', fontsize=20)\n",
    "plt.xticks(fontsize=15)\n",
    "plt.yticks(fontsize=15)\n",
    "plt.legend(fontsize=15)\n",
    "sns.despine()\n",
    "plt.show()\n"
   ]
  },
  {
   "cell_type": "code",
   "execution_count": 124,
   "id": "dc11a47c-2ecd-44c4-ba4a-025249953233",
   "metadata": {},
   "outputs": [
    {
     "name": "stdout",
     "output_type": "stream",
     "text": [
      "Train AUC: 0.8052078306177426\n",
      "Test AUC: 0.8058576330143032\n"
     ]
    }
   ],
   "source": [
    "from sklearn.metrics import roc_auc_score\n",
    "\n",
    "train_preds = model_browsing.predict(X_train)\n",
    "test_preds = model_browsing.predict(X_test)\n",
    "\n",
    "print(\"Train AUC:\", roc_auc_score(y_train, train_preds))\n",
    "print(\"Test AUC:\", roc_auc_score(y_test, test_preds))\n"
   ]
  },
  {
   "cell_type": "code",
   "execution_count": 126,
   "id": "bfc34f92-195b-4bb4-9151-d18f6722185d",
   "metadata": {},
   "outputs": [
    {
     "data": {
      "image/png": "[encoded data removed]",
      "text/plain": [
       "<Figure size 432x288 with 1 Axes>"
      ]
     },
     "metadata": {
      "needs_background": "light"
     },
     "output_type": "display_data"
    }
   ],
   "source": [
    "plt.hist(df_cal['predictions'][df_cal['Heart_Disease'] == 1], bins=20, alpha=0.5, label='True Positive')\n",
    "plt.hist(df_cal['predictions'][df_cal['Heart_Disease'] == 0], bins=20, alpha=0.5, label='True Negative')\n",
    "plt.legend()\n",
    "plt.show()\n"
   ]
  },
  {
   "cell_type": "code",
   "execution_count": null,
   "id": "45ea3fd0-0e0c-4a40-8252-627d3fb864ea",
   "metadata": {},
   "outputs": [],
   "source": []
  },
  {
   "cell_type": "code",
   "execution_count": 262,
   "id": "ed1c4b59-4aac-46e8-8829-ca3ece128951",
   "metadata": {},
   "outputs": [],
   "source": [
    "### Model 2 w/0 interactions"
   ]
  },
  {
   "cell_type": "code",
   "execution_count": 209,
   "id": "f304afdf-cf71-48d7-9c68-2ac9899202ac",
   "metadata": {},
   "outputs": [
    {
     "name": "stdout",
     "output_type": "stream",
     "text": [
      "Logistic Model Score on Training Data: 0.9189304199410723\n",
      "Logistic Model Score on Testing Data: 0.9180849800878509\n"
     ]
    }
   ],
   "source": [
    "### My model\n",
    "#Features\n",
    "X = df[['BMI',  'Exercise', 'Smoking_History', 'Alcohol_Consumption', 'Age_Category', 'Sex', 'Diabetes', 'Arthritis']]\n",
    "\n",
    "\n",
    "X = sm.add_constant(X)\n",
    "\n",
    "#Labels\n",
    "y = df['Heart_Disease']\n",
    "\n",
    "#Splitting the data into training and testing; 70% Training, 30% Testing\n",
    "#80-20 yielded worse results\n",
    "x_train, x_test, y_train, y_test = train_test_split(X,y,test_size=.3,train_size=.7,random_state=12)\n",
    "\n",
    "#Creating a Logistic Regression Object\n",
    "log_model_2 = LogisticRegression(max_iter=20000)\n",
    "\n",
    "#Fitting the training data to a logistic model\n",
    "log_model_2.fit(x_train,y_train)\n",
    "\n",
    "#Training the log model on the x_test data\n",
    "y_pred_2 = log_model_2.predict(x_test)\n",
    "\n",
    "#printing the score(error) of the fitted log_model\n",
    "print(\"Logistic Model Score on Training Data:\",log_model_2.score(x_train,y_train))\n",
    "\n",
    "#Printing the score of the fitted log_model on testing data\n",
    "print(\"Logistic Model Score on Testing Data:\",log_model_2.score(x_test,y_test))\n",
    "\n",
    "lmstr_2 = log_model_2.score(x_train,y_train)\n",
    "lmste_2 = log_model_2.score(x_test,y_test)"
   ]
  },
  {
   "cell_type": "code",
   "execution_count": null,
   "id": "6cd9e01f-8bb0-4a11-9625-4a7ca307f7da",
   "metadata": {},
   "outputs": [],
   "source": []
  },
  {
   "cell_type": "code",
   "execution_count": null,
   "id": "b15d9ab4-99a0-4ec6-be4f-ed715b638d38",
   "metadata": {},
   "outputs": [],
   "source": []
  },
  {
   "cell_type": "code",
   "execution_count": null,
   "id": "7310465c-ca40-4b5c-bbca-76798908af12",
   "metadata": {},
   "outputs": [],
   "source": []
  },
  {
   "cell_type": "code",
   "execution_count": null,
   "id": "d800a8a0-045d-42c7-b06a-490296721e7b",
   "metadata": {},
   "outputs": [],
   "source": []
  },
  {
   "cell_type": "code",
   "execution_count": null,
   "id": "56ba74e2-12b5-46cf-9549-9bcb7e5b34ac",
   "metadata": {},
   "outputs": [],
   "source": []
  }
 ],
 "metadata": {
  "kernelspec": {
   "display_name": "Python 3 (ipykernel)",
   "language": "python",
   "name": "python3"
  },
  "language_info": {
   "codemirror_mode": {
    "name": "ipython",
    "version": 3
   },
   "file_extension": ".py",
   "mimetype": "text/x-python",
   "name": "python",
   "nbconvert_exporter": "python",
   "pygments_lexer": "ipython3",
   "version": "3.9.20"
  }
 },
 "nbformat": 4,
 "nbformat_minor": 5
}
